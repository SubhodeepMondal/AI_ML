{
 "cells": [
  {
   "cell_type": "markdown",
   "metadata": {
    "id": "O1LygiPUuVpM"
   },
   "source": [
    "## Following operations should be performed using Keras or PyTorch or Torch vision- "
   ]
  },
  {
   "cell_type": "markdown",
   "metadata": {
    "id": "2aYbHAJAucJg"
   },
   "source": [
    "### Import the necessary libraries"
   ]
  },
  {
   "cell_type": "code",
   "execution_count": 1,
   "metadata": {
    "executionInfo": {
     "elapsed": 5355,
     "status": "ok",
     "timestamp": 1667830648584,
     "user": {
      "displayName": "Subhodeep Mondal",
      "userId": "03058709964601180377"
     },
     "user_tz": -330
    },
    "id": "EEB12Pk120Cw"
   },
   "outputs": [
    {
     "ename": "ModuleNotFoundError",
     "evalue": "No module named 'tensorflow'",
     "output_type": "error",
     "traceback": [
      "\u001b[0;31m---------------------------------------------------------------------------\u001b[0m",
      "\u001b[0;31mModuleNotFoundError\u001b[0m                       Traceback (most recent call last)",
      "\u001b[0;32m/tmp/ipykernel_8229/1028343930.py\u001b[0m in \u001b[0;36m<module>\u001b[0;34m\u001b[0m\n\u001b[0;32m----> 1\u001b[0;31m \u001b[0;32mfrom\u001b[0m \u001b[0mtensorflow\u001b[0m\u001b[0;34m.\u001b[0m\u001b[0mkeras\u001b[0m \u001b[0;32mimport\u001b[0m \u001b[0mlayers\u001b[0m\u001b[0;34m,\u001b[0m \u001b[0moptimizers\u001b[0m\u001b[0;34m,\u001b[0m \u001b[0mmodels\u001b[0m\u001b[0;34m,\u001b[0m \u001b[0mlosses\u001b[0m\u001b[0;34m\u001b[0m\u001b[0;34m\u001b[0m\u001b[0m\n\u001b[0m\u001b[1;32m      2\u001b[0m \u001b[0;32mfrom\u001b[0m \u001b[0mtensorflow\u001b[0m\u001b[0;34m.\u001b[0m\u001b[0mkeras\u001b[0m\u001b[0;34m.\u001b[0m\u001b[0mpreprocessing\u001b[0m\u001b[0;34m.\u001b[0m\u001b[0mimage\u001b[0m \u001b[0;32mimport\u001b[0m \u001b[0mImageDataGenerator\u001b[0m\u001b[0;34m\u001b[0m\u001b[0;34m\u001b[0m\u001b[0m\n\u001b[1;32m      3\u001b[0m \u001b[0;32mfrom\u001b[0m \u001b[0mtensorflow\u001b[0m\u001b[0;34m.\u001b[0m\u001b[0mkeras\u001b[0m\u001b[0;34m.\u001b[0m\u001b[0mcallbacks\u001b[0m \u001b[0;32mimport\u001b[0m \u001b[0mEarlyStopping\u001b[0m\u001b[0;34m\u001b[0m\u001b[0;34m\u001b[0m\u001b[0m\n\u001b[1;32m      4\u001b[0m \u001b[0;34m\u001b[0m\u001b[0m\n\u001b[1;32m      5\u001b[0m \u001b[0;31m#from tensorflow.keras.applications.densenet import preprocess_input\u001b[0m\u001b[0;34m\u001b[0m\u001b[0;34m\u001b[0m\u001b[0m\n",
      "\u001b[0;31mModuleNotFoundError\u001b[0m: No module named 'tensorflow'"
     ]
    }
   ],
   "source": [
    "from tensorflow.keras import layers, optimizers, models, losses\n",
    "from tensorflow.keras.preprocessing.image import ImageDataGenerator\n",
    "from tensorflow.keras.callbacks import EarlyStopping\n",
    "\n",
    "#from tensorflow.keras.applications.densenet import preprocess_input\n",
    "\n",
    "import matplotlib.pyplot as plt\n",
    "from PIL import Image"
   ]
  },
  {
   "cell_type": "code",
   "execution_count": null,
   "metadata": {
    "colab": {
     "base_uri": "https://localhost:8080/"
    },
    "executionInfo": {
     "elapsed": 21521,
     "status": "ok",
     "timestamp": 1667830670103,
     "user": {
      "displayName": "Subhodeep Mondal",
      "userId": "03058709964601180377"
     },
     "user_tz": -330
    },
    "id": "5Z-AkbaX22wS",
    "outputId": "a45ae07d-a741-43e7-d028-d773309757bc"
   },
   "outputs": [],
   "source": [
    "from google.colab import drive\n",
    "drive.mount('/content/drive')"
   ]
  },
  {
   "cell_type": "markdown",
   "metadata": {
    "id": "hLizin4i41wf"
   },
   "source": [
    "### Plot the sample images for all the classes "
   ]
  },
  {
   "cell_type": "code",
   "execution_count": null,
   "metadata": {
    "colab": {
     "base_uri": "https://localhost:8080/",
     "height": 286
    },
    "executionInfo": {
     "elapsed": 3808,
     "status": "ok",
     "timestamp": 1667830673909,
     "user": {
      "displayName": "Subhodeep Mondal",
      "userId": "03058709964601180377"
     },
     "user_tz": -330
    },
    "id": "4_oGE81nUgb-",
    "outputId": "0fad8f59-88b8-4997-8c45-9fbfcbd25df2"
   },
   "outputs": [],
   "source": [
    "healthy_img = Image.open('/content/drive/MyDrive/Python Notebooks/Tensorflow_AI/Dataset/Lung Infection/train/Healthy/01.jpeg')\n",
    "plt.imshow(healthy_img)"
   ]
  },
  {
   "cell_type": "code",
   "execution_count": null,
   "metadata": {
    "colab": {
     "base_uri": "https://localhost:8080/",
     "height": 286
    },
    "executionInfo": {
     "elapsed": 4225,
     "status": "ok",
     "timestamp": 1667830678132,
     "user": {
      "displayName": "Subhodeep Mondal",
      "userId": "03058709964601180377"
     },
     "user_tz": -330
    },
    "id": "XnpcLG2nXffT",
    "outputId": "20c828b4-bc45-4816-8609-513f08ff40f4"
   },
   "outputs": [],
   "source": [
    "Type_1_img = Image.open('/content/drive/MyDrive/Python Notebooks/Tensorflow_AI/Dataset/Lung Infection/train/Type 1 disease/01.jpeg')\n",
    "plt.imshow(Type_1_img)"
   ]
  },
  {
   "cell_type": "code",
   "execution_count": null,
   "metadata": {
    "colab": {
     "base_uri": "https://localhost:8080/",
     "height": 286
    },
    "executionInfo": {
     "elapsed": 6,
     "status": "ok",
     "timestamp": 1667830678132,
     "user": {
      "displayName": "Subhodeep Mondal",
      "userId": "03058709964601180377"
     },
     "user_tz": -330
    },
    "id": "8ZRX2e7xYD7q",
    "outputId": "9be2714a-5814-4d53-8e70-25f5c546e425"
   },
   "outputs": [],
   "source": [
    "Type_2_img = Image.open('/content/drive/MyDrive/Python Notebooks/Tensorflow_AI/Dataset/Lung Infection/train/Type 2 disease/01.jpeg')\n",
    "plt.imshow(Type_2_img)"
   ]
  },
  {
   "cell_type": "markdown",
   "metadata": {
    "id": "lo8grSYF_9yb"
   },
   "source": [
    "### Plot the distribution of images across the classes"
   ]
  },
  {
   "cell_type": "code",
   "execution_count": null,
   "metadata": {
    "colab": {
     "base_uri": "https://localhost:8080/",
     "height": 300
    },
    "executionInfo": {
     "elapsed": 750,
     "status": "ok",
     "timestamp": 1667830678880,
     "user": {
      "displayName": "Subhodeep Mondal",
      "userId": "03058709964601180377"
     },
     "user_tz": -330
    },
    "id": "A94auPEq3lk5",
    "outputId": "c133c280-7c8c-4e82-abf2-8ccc6e66257c"
   },
   "outputs": [],
   "source": [
    "import os\n",
    "\n",
    "path = '/content/drive/MyDrive/Python Notebooks/Tensorflow_AI/Dataset/Lung Infection/train/'\n",
    "class_dist = {}\n",
    "count = 0\n",
    "\n",
    "for i in os.listdir(path):\n",
    "  flag = 0\n",
    "  for j in os.listdir(path+i+'/'):\n",
    "    if(flag == 0):\n",
    "      class_dist[i] = 1\n",
    "      flag = 1\n",
    "    else:\n",
    "      class_dist[i] += 1\n",
    "print(class_dist)\n",
    "plt.bar(class_dist.keys(),[class_dist[i] for i in class_dist.keys()])\n",
    "#plt.bar(class_dist.keys(),[class_dist['Healthy'],class_dist['Type 1 disease'], class_dist['Type 2 disease']])"
   ]
  },
  {
   "cell_type": "markdown",
   "metadata": {
    "id": "K8dZfWAxeTnU"
   },
   "source": [
    "### Build a data augmentation for train data to create new data with translation, rescale and flip, and rotation transformations. Rescale the image at 48x48"
   ]
  },
  {
   "cell_type": "code",
   "execution_count": null,
   "metadata": {
    "executionInfo": {
     "elapsed": 9,
     "status": "ok",
     "timestamp": 1667830678880,
     "user": {
      "displayName": "Subhodeep Mondal",
      "userId": "03058709964601180377"
     },
     "user_tz": -330
    },
    "id": "Yg19ufEFeY27"
   },
   "outputs": [],
   "source": [
    "test_image = ImageDataGenerator(rescale=1/255.,\n",
    "                                horizontal_flip = True,\n",
    "                                vertical_flip = True,\n",
    "                                rotation_range=35)"
   ]
  },
  {
   "cell_type": "markdown",
   "metadata": {
    "id": "t_gAWk5cecnT"
   },
   "source": [
    "### Build a data augmentation for test data to create new data and rescale the image at 48x48"
   ]
  },
  {
   "cell_type": "code",
   "execution_count": null,
   "metadata": {
    "executionInfo": {
     "elapsed": 9,
     "status": "ok",
     "timestamp": 1667830678880,
     "user": {
      "displayName": "Subhodeep Mondal",
      "userId": "03058709964601180377"
     },
     "user_tz": -330
    },
    "id": "8Q-Zo2O3eTCX"
   },
   "outputs": [],
   "source": [
    "train_image = ImageDataGenerator(rescale=1/255.,\n",
    "                                horizontal_flip=True,\n",
    "                                vertical_flip = True,\n",
    "                                rotation_range=35)"
   ]
  },
  {
   "cell_type": "markdown",
   "metadata": {
    "id": "dosvbUSGgKWg"
   },
   "source": [
    "### Read images directly from the train folder and test folder using the appropriate function"
   ]
  },
  {
   "cell_type": "code",
   "execution_count": null,
   "metadata": {
    "colab": {
     "base_uri": "https://localhost:8080/"
    },
    "executionInfo": {
     "elapsed": 10,
     "status": "ok",
     "timestamp": 1667830678881,
     "user": {
      "displayName": "Subhodeep Mondal",
      "userId": "03058709964601180377"
     },
     "user_tz": -330
    },
    "id": "Bap1MMYjgOHt",
    "outputId": "5e7102a2-aa19-4ece-9aa2-e4cb8cd419f0"
   },
   "outputs": [],
   "source": [
    "trainImageset = train_image.flow_from_directory('/content/drive/MyDrive/Python Notebooks/Tensorflow_AI/Dataset/Lung Infection/train',target_size=(224,224),batch_size=1)\n",
    "testImageset = test_image.flow_from_directory('/content/drive/MyDrive/Python Notebooks/Tensorflow_AI/Dataset/Lung Infection/test',target_size=(224,224),batch_size=1)"
   ]
  },
  {
   "cell_type": "markdown",
   "metadata": {
    "id": "jPicyEuRbGgj"
   },
   "source": [
    "## Build 3 CNN model with:\n",
    "\n",
    "### 1.CNN Architecture:"
   ]
  },
  {
   "cell_type": "markdown",
   "metadata": {
    "id": "4vUpPCcPbRc_"
   },
   "source": [
    "### 1. Add convolutional layers with different filters, max pool layers, dropout layers, and batch normalization layers  \n",
    "\n",
    "### 2. Use Relu as an activation function"
   ]
  },
  {
   "cell_type": "code",
   "execution_count": null,
   "metadata": {
    "executionInfo": {
     "elapsed": 7,
     "status": "ok",
     "timestamp": 1667830678881,
     "user": {
      "displayName": "Subhodeep Mondal",
      "userId": "03058709964601180377"
     },
     "user_tz": -330
    },
    "id": "Uhj8b-AQ20DJ"
   },
   "outputs": [],
   "source": [
    "def convModel():\n",
    "    model = models.Sequential()\n",
    "\n",
    "    model.add(layers.Conv2D(16,(3,3),input_shape=trainImageset.image_shape,activation='relu',padding='same'))\n",
    "    model.add(layers.Conv2D(16,(3,3),activation='relu',padding='same'))\n",
    "    model.add(layers.MaxPool2D(pool_size=(2,2)))\n",
    "\n",
    "    model.add(layers.Conv2D(32,(3,3),activation='relu',padding='same'))\n",
    "    model.add(layers.Conv2D(32,(3,3),activation='relu',padding='same'))\n",
    "    model.add(layers.MaxPool2D(pool_size=(2,2)))\n",
    "\n",
    "    model.add(layers.Conv2D(64,(3,3),activation='relu',padding='same'))   \n",
    "    model.add(layers.Conv2D(64,(3,3),activation='relu',padding='same'))\n",
    "    model.add(layers.MaxPool2D(pool_size=(2,2)))\n",
    "\n",
    "    model.add(layers.Conv2D(128,(3,3),activation='relu',padding='same'))\n",
    "    model.add(layers.Conv2D(128,(3,3),activation='relu',padding='same'))\n",
    "    model.add(layers.MaxPool2D(pool_size=(2,2)))\n",
    "\n",
    "    model.add(layers.Conv2D(256,(3,3),activation='relu',padding='same'))\n",
    "    model.add(layers.Conv2D(256,(3,3),activation='relu',padding='same'))\n",
    "    model.add(layers.MaxPool2D(pool_size=(2,2)))\n",
    "\n",
    "    model.add(layers.Flatten())\n",
    "\n",
    "    model.add(layers.Dense(64,activation='relu'))\n",
    "    model.add(layers.Dense(64,activation='relu'))\n",
    "    model.add(layers.Dense(len(trainImageset.class_indices.keys()),activation='softmax'))\n",
    "\n",
    "    return model\n",
    "    "
   ]
  },
  {
   "cell_type": "markdown",
   "metadata": {
    "id": "5AIJVUGCbbQz"
   },
   "source": [
    "### 3. Take the loss function as categorical cross-entropy\n",
    "### 4. Take rmsprop as an optimizer\n",
    "### 5. Use early stopping with the patience of two epochs and monitor the validation loss or accuracy"
   ]
  },
  {
   "cell_type": "code",
   "execution_count": null,
   "metadata": {
    "colab": {
     "base_uri": "https://localhost:8080/"
    },
    "executionInfo": {
     "elapsed": 729,
     "status": "ok",
     "timestamp": 1667830679603,
     "user": {
      "displayName": "Subhodeep Mondal",
      "userId": "03058709964601180377"
     },
     "user_tz": -330
    },
    "id": "J24Su5yt20DN",
    "outputId": "cd413ce8-48c9-4cfa-aa4d-f3a3de22f601"
   },
   "outputs": [],
   "source": [
    "model = convModel()\n",
    "callback = EarlyStopping(monitor='val_accuracy',patience=2, min_delta = 0 )\n",
    "model.compile(loss='categorical_crossentropy',optimizer='rmsprop', metrics=['accuracy'])\n",
    "model.summary()"
   ]
  },
  {
   "cell_type": "markdown",
   "metadata": {
    "id": "JdJm2jzsdCUv"
   },
   "source": [
    "### 6. Try with ten numbers epoch\n",
    "### 7. Train the model using a generator and test the accuracy of the test data at every epoch"
   ]
  },
  {
   "cell_type": "code",
   "execution_count": null,
   "metadata": {
    "colab": {
     "base_uri": "https://localhost:8080/"
    },
    "executionInfo": {
     "elapsed": 298818,
     "status": "ok",
     "timestamp": 1667830978409,
     "user": {
      "displayName": "Subhodeep Mondal",
      "userId": "03058709964601180377"
     },
     "user_tz": -330
    },
    "id": "qEFuzD8t20DP",
    "outputId": "555e13ee-a52c-4344-e54f-495d28013d47"
   },
   "outputs": [],
   "source": [
    "model_hist = model.fit(trainImageset,epochs=10,validation_data=testImageset,callbacks=[callback])"
   ]
  },
  {
   "cell_type": "markdown",
   "metadata": {
    "id": "XpjxBMvsdUHm"
   },
   "source": [
    "### 8. Plot the training and validation accuracy, and the loss"
   ]
  },
  {
   "cell_type": "code",
   "execution_count": null,
   "metadata": {
    "colab": {
     "base_uri": "https://localhost:8080/",
     "height": 265
    },
    "executionInfo": {
     "elapsed": 9291,
     "status": "ok",
     "timestamp": 1667830987698,
     "user": {
      "displayName": "Subhodeep Mondal",
      "userId": "03058709964601180377"
     },
     "user_tz": -330
    },
    "id": "1_2zLeV120DS",
    "outputId": "e97fda65-fe25-4f10-92b0-ca8aa7802738"
   },
   "outputs": [],
   "source": [
    "plt.plot(model_hist.history[\"accuracy\"])\n",
    "plt.plot(model_hist.history[\"val_accuracy\"])\n",
    "plt.show()"
   ]
  },
  {
   "cell_type": "code",
   "execution_count": null,
   "metadata": {
    "colab": {
     "base_uri": "https://localhost:8080/",
     "height": 265
    },
    "executionInfo": {
     "elapsed": 5,
     "status": "ok",
     "timestamp": 1667830987698,
     "user": {
      "displayName": "Subhodeep Mondal",
      "userId": "03058709964601180377"
     },
     "user_tz": -330
    },
    "id": "sLtLLOap20DV",
    "outputId": "26f7ef32-21ee-416b-ca6f-23d694a5fb3e"
   },
   "outputs": [],
   "source": [
    "plt.plot(model_hist.history[\"loss\"])\n",
    "plt.plot(model_hist.history[\"val_loss\"])\n",
    "plt.show()"
   ]
  },
  {
   "cell_type": "code",
   "execution_count": null,
   "metadata": {
    "colab": {
     "base_uri": "https://localhost:8080/"
    },
    "executionInfo": {
     "elapsed": 4,
     "status": "ok",
     "timestamp": 1667830987698,
     "user": {
      "displayName": "Subhodeep Mondal",
      "userId": "03058709964601180377"
     },
     "user_tz": -330
    },
    "id": "Dn71lIugmO_c",
    "outputId": "57e79080-db51-4c23-ca1c-7f84eb652066"
   },
   "outputs": [],
   "source": [
    "testImageset.labels"
   ]
  },
  {
   "cell_type": "markdown",
   "metadata": {
    "id": "d9uMnnljmFTB"
   },
   "source": [
    "### 9. Observe the precision, recall the F1-score for all classes for both grayscale and color models, and determine if the model’s classes are good"
   ]
  },
  {
   "cell_type": "code",
   "execution_count": null,
   "metadata": {
    "colab": {
     "base_uri": "https://localhost:8080/"
    },
    "executionInfo": {
     "elapsed": 10743,
     "status": "ok",
     "timestamp": 1667830998439,
     "user": {
      "displayName": "Subhodeep Mondal",
      "userId": "03058709964601180377"
     },
     "user_tz": -330
    },
    "id": "Y9y_gvZddyF9",
    "outputId": "db2d2265-0933-4289-b64b-99a76e5efaf7"
   },
   "outputs": [],
   "source": [
    "from sklearn.metrics import f1_score, recall_score, precision_score\n",
    "import numpy as np\n",
    "\n",
    "y_preds = model.predict(testImageset)"
   ]
  },
  {
   "cell_type": "code",
   "execution_count": null,
   "metadata": {
    "executionInfo": {
     "elapsed": 9,
     "status": "ok",
     "timestamp": 1667830998440,
     "user": {
      "displayName": "Subhodeep Mondal",
      "userId": "03058709964601180377"
     },
     "user_tz": -330
    },
    "id": "UJEi_583nYQ0"
   },
   "outputs": [],
   "source": [
    "CNN_metrices = {}"
   ]
  },
  {
   "cell_type": "code",
   "execution_count": null,
   "metadata": {
    "executionInfo": {
     "elapsed": 8,
     "status": "ok",
     "timestamp": 1667830998440,
     "user": {
      "displayName": "Subhodeep Mondal",
      "userId": "03058709964601180377"
     },
     "user_tz": -330
    },
    "id": "eeTA7JW2qjvI"
   },
   "outputs": [],
   "source": [
    "CNN_metrices['precision'] = precision_score(testImageset.labels,y_preds.argmax(axis=1),average='weighted')"
   ]
  },
  {
   "cell_type": "code",
   "execution_count": null,
   "metadata": {
    "executionInfo": {
     "elapsed": 8,
     "status": "ok",
     "timestamp": 1667830998440,
     "user": {
      "displayName": "Subhodeep Mondal",
      "userId": "03058709964601180377"
     },
     "user_tz": -330
    },
    "id": "PQEWYNyUw1a1"
   },
   "outputs": [],
   "source": [
    "CNN_metrices['f1'] = f1_score(testImageset.labels,y_preds.argmax(axis=1),average='weighted')"
   ]
  },
  {
   "cell_type": "code",
   "execution_count": null,
   "metadata": {
    "executionInfo": {
     "elapsed": 8,
     "status": "ok",
     "timestamp": 1667830998440,
     "user": {
      "displayName": "Subhodeep Mondal",
      "userId": "03058709964601180377"
     },
     "user_tz": -330
    },
    "id": "kc0L9FXwqXX-"
   },
   "outputs": [],
   "source": [
    "CNN_metrices['recall'] = recall_score(testImageset.labels,y_preds.argmax(axis=1),average='weighted')"
   ]
  },
  {
   "cell_type": "markdown",
   "metadata": {
    "id": "3ZdvP-yAq6L8"
   },
   "source": [
    "From the above analysis we can surely tale the model didn't perform that well, the [precision: 0.09, recall: 0.30, f1_score: 0.14]. "
   ]
  },
  {
   "cell_type": "markdown",
   "metadata": {
    "id": "xSOXrwk-HykR"
   },
   "source": [
    "## 2 Transfer learning using mobile net:"
   ]
  },
  {
   "cell_type": "code",
   "execution_count": null,
   "metadata": {
    "executionInfo": {
     "elapsed": 8,
     "status": "ok",
     "timestamp": 1667830998440,
     "user": {
      "displayName": "Subhodeep Mondal",
      "userId": "03058709964601180377"
     },
     "user_tz": -330
    },
    "id": "Wki4AT3eL3Bd"
   },
   "outputs": [],
   "source": [
    "from tensorflow.keras.applications.mobilenet import MobileNet\n",
    "from tensorflow.keras.applications.mobilenet import preprocess_input"
   ]
  },
  {
   "cell_type": "markdown",
   "metadata": {
    "id": "biWX8vVMHtKe"
   },
   "source": [
    "### 1. Prepare data for the pre-trained mobile net model, with color mode as RGB"
   ]
  },
  {
   "cell_type": "code",
   "execution_count": null,
   "metadata": {
    "executionInfo": {
     "elapsed": 8,
     "status": "ok",
     "timestamp": 1667830998440,
     "user": {
      "displayName": "Subhodeep Mondal",
      "userId": "03058709964601180377"
     },
     "user_tz": -330
    },
    "id": "oV47Om-vUIYi"
   },
   "outputs": [],
   "source": [
    "train_image_mobilenet = ImageDataGenerator(rescale = 1/255.0, preprocessing_function=preprocess_input)\n",
    "test_image_mobilenet = ImageDataGenerator(rescale = 1/255.0, preprocessing_function=preprocess_input)"
   ]
  },
  {
   "cell_type": "code",
   "execution_count": null,
   "metadata": {
    "colab": {
     "base_uri": "https://localhost:8080/"
    },
    "executionInfo": {
     "elapsed": 8,
     "status": "ok",
     "timestamp": 1667830998440,
     "user": {
      "displayName": "Subhodeep Mondal",
      "userId": "03058709964601180377"
     },
     "user_tz": -330
    },
    "id": "E6FIlBN920DW",
    "outputId": "dfb70c91-0cc5-4830-e3ea-48c9762191fd"
   },
   "outputs": [],
   "source": [
    "trainImageset = train_image_mobilenet.flow_from_directory('/content/drive/MyDrive/Python Notebooks/Tensorflow_AI/Dataset/Lung Infection/train',\n",
    "                                                target_size=(224,224),\n",
    "                                                color_mode = 'rgb'\n",
    "                                                )\n",
    "testImageset = test_image_mobilenet.flow_from_directory('/content/drive/MyDrive/Python Notebooks/Tensorflow_AI/Dataset/Lung Infection/test',\n",
    "                                              target_size=(224,224),\n",
    "                                              color_mode = 'rgb'\n",
    "                                              )"
   ]
  },
  {
   "cell_type": "markdown",
   "metadata": {
    "id": "2N7xViOKH-rX"
   },
   "source": [
    "### 2. Create an instance of a mobile net pre-trained model "
   ]
  },
  {
   "cell_type": "code",
   "execution_count": null,
   "metadata": {
    "colab": {
     "base_uri": "https://localhost:8080/"
    },
    "executionInfo": {
     "elapsed": 1155,
     "status": "ok",
     "timestamp": 1667830999588,
     "user": {
      "displayName": "Subhodeep Mondal",
      "userId": "03058709964601180377"
     },
     "user_tz": -330
    },
    "id": "mv4dvWiGSwUE",
    "outputId": "27d4a6df-ddac-4d0c-a609-d864486020eb"
   },
   "outputs": [],
   "source": [
    "base_model = MobileNet(input_shape=trainImageset.image_shape ,weights='imagenet',include_top = False)\n",
    "x=base_model.output\n"
   ]
  },
  {
   "cell_type": "markdown",
   "metadata": {
    "id": "-54ODKqpIdlO"
   },
   "source": [
    "### 3. Add dense layer, dropout layer, batch normalization layer on the pre-trained model \n",
    "### 4. Create a final output layer with a SoftMax activation function"
   ]
  },
  {
   "cell_type": "code",
   "execution_count": null,
   "metadata": {
    "executionInfo": {
     "elapsed": 3059,
     "status": "ok",
     "timestamp": 1667831002646,
     "user": {
      "displayName": "Subhodeep Mondal",
      "userId": "03058709964601180377"
     },
     "user_tz": -330
    },
    "id": "8SIyS_roIhM3"
   },
   "outputs": [],
   "source": [
    "x = layers.Flatten()(x)\n",
    "x = layers.Dense(4096,activation='relu')(x)\n",
    "x = layers.BatchNormalization()(x)\n",
    "x = layers.Dropout(0.2)(x)\n",
    "#x = layers.Dense(2048,activation='relu')(x)\n",
    "predict = layers.Dense(3,activation='softmax')(x)\n",
    "\n",
    "model = models.Model(inputs=base_model.input,outputs=predict)"
   ]
  },
  {
   "cell_type": "markdown",
   "metadata": {
    "id": "WVJhCkqBLZLz"
   },
   "source": [
    "### 5. Change the batch size activation function and optimize as rmsprop and observe if the accuracy increases\n",
    "### 6. Take the loss function as categorical cross-entropy"
   ]
  },
  {
   "cell_type": "code",
   "execution_count": null,
   "metadata": {
    "colab": {
     "base_uri": "https://localhost:8080/"
    },
    "executionInfo": {
     "elapsed": 1033,
     "status": "ok",
     "timestamp": 1667831003661,
     "user": {
      "displayName": "Subhodeep Mondal",
      "userId": "03058709964601180377"
     },
     "user_tz": -330
    },
    "id": "avAGx8jDM5uJ",
    "outputId": "bc5d91c3-e51b-43d8-8daa-9cf6ca1d042d"
   },
   "outputs": [],
   "source": [
    "callback = EarlyStopping(monitor='val_Accuracy',patience=2, min_delta = 0 )\n",
    "model.compile(optimizer='rmsprop',loss='categorical_crossentropy',metrics=['Accuracy'])\n",
    "model.summary()"
   ]
  },
  {
   "cell_type": "markdown",
   "metadata": {
    "id": "4oKU__8cMDan"
   },
   "source": [
    "### 7. Use early stopping with the patience of two epoch and call back function for preventing overfitting\n",
    "### 8. Try with ten numbers epoch\n",
    "### 9. Train the model using a generator and test the accuracy of the test data at every epoch"
   ]
  },
  {
   "cell_type": "code",
   "execution_count": null,
   "metadata": {
    "colab": {
     "base_uri": "https://localhost:8080/"
    },
    "executionInfo": {
     "elapsed": 609294,
     "status": "ok",
     "timestamp": 1667831612953,
     "user": {
      "displayName": "Subhodeep Mondal",
      "userId": "03058709964601180377"
     },
     "user_tz": -330
    },
    "id": "yG4nCAfIO2sR",
    "outputId": "35447813-4cea-4de5-9daf-e6992af445ac"
   },
   "outputs": [],
   "source": [
    "model_hist = model.fit(trainImageset,epochs=10,validation_data=testImageset,callbacks=[callback])"
   ]
  },
  {
   "cell_type": "markdown",
   "metadata": {
    "id": "rSHlaU3KL9Hh"
   },
   "source": [
    "### 10. Plot the training and validation accuracy, and the loss"
   ]
  },
  {
   "cell_type": "code",
   "execution_count": null,
   "metadata": {
    "colab": {
     "base_uri": "https://localhost:8080/",
     "height": 266
    },
    "executionInfo": {
     "elapsed": 3,
     "status": "ok",
     "timestamp": 1667831612953,
     "user": {
      "displayName": "Subhodeep Mondal",
      "userId": "03058709964601180377"
     },
     "user_tz": -330
    },
    "id": "4BSvMBvJQW4D",
    "outputId": "4ca4a9e5-2270-4f89-b41f-08d62d0adbdd"
   },
   "outputs": [],
   "source": [
    "plt.plot(model_hist.history['Accuracy'])\n",
    "plt.plot(model_hist.history['val_Accuracy'])\n",
    "plt.show()"
   ]
  },
  {
   "cell_type": "code",
   "execution_count": null,
   "metadata": {
    "colab": {
     "base_uri": "https://localhost:8080/",
     "height": 265
    },
    "executionInfo": {
     "elapsed": 863,
     "status": "ok",
     "timestamp": 1667831613814,
     "user": {
      "displayName": "Subhodeep Mondal",
      "userId": "03058709964601180377"
     },
     "user_tz": -330
    },
    "id": "aqCogDToeNSh",
    "outputId": "f36ad613-58ef-47db-cbb7-39a1f67b1785"
   },
   "outputs": [],
   "source": [
    "plt.plot(model_hist.history['loss'])\n",
    "plt.plot(model_hist.history['val_loss'])\n",
    "plt.show()"
   ]
  },
  {
   "cell_type": "markdown",
   "metadata": {
    "id": "ieNTV8BxMYud"
   },
   "source": [
    "### 11. Observe the precision, recall the F1-score for all classes for both grayscale and color models, and determine if the model’s classes are good"
   ]
  },
  {
   "cell_type": "code",
   "execution_count": null,
   "metadata": {
    "colab": {
     "base_uri": "https://localhost:8080/"
    },
    "executionInfo": {
     "elapsed": 6004,
     "status": "ok",
     "timestamp": 1667831619816,
     "user": {
      "displayName": "Subhodeep Mondal",
      "userId": "03058709964601180377"
     },
     "user_tz": -330
    },
    "id": "lVSquRToMngY",
    "outputId": "1420e4b9-e18f-440c-c9de-37f52125277d"
   },
   "outputs": [],
   "source": [
    "from sklearn.metrics import f1_score, recall_score, precision_score\n",
    "import numpy as np\n",
    "\n",
    "y_preds = model.predict(testImageset)\n"
   ]
  },
  {
   "cell_type": "code",
   "execution_count": null,
   "metadata": {
    "executionInfo": {
     "elapsed": 3,
     "status": "ok",
     "timestamp": 1667831619816,
     "user": {
      "displayName": "Subhodeep Mondal",
      "userId": "03058709964601180377"
     },
     "user_tz": -330
    },
    "id": "2Xsty8NDmQWI"
   },
   "outputs": [],
   "source": [
    "mobilenet_metrices = {}"
   ]
  },
  {
   "cell_type": "code",
   "execution_count": null,
   "metadata": {
    "colab": {
     "base_uri": "https://localhost:8080/"
    },
    "executionInfo": {
     "elapsed": 4,
     "status": "ok",
     "timestamp": 1667831619817,
     "user": {
      "displayName": "Subhodeep Mondal",
      "userId": "03058709964601180377"
     },
     "user_tz": -330
    },
    "id": "muoJqIqPMo4o",
    "outputId": "2d5ae9f4-6e8b-4c6b-8a3b-4ec0923cbb75"
   },
   "outputs": [],
   "source": [
    "mobilenet_metrices['precision'] = precision_score(testImageset.labels,y_preds.argmax(axis=1),average='weighted')"
   ]
  },
  {
   "cell_type": "code",
   "execution_count": null,
   "metadata": {
    "executionInfo": {
     "elapsed": 3,
     "status": "ok",
     "timestamp": 1667831619817,
     "user": {
      "displayName": "Subhodeep Mondal",
      "userId": "03058709964601180377"
     },
     "user_tz": -330
    },
    "id": "jpPn2xzGM58F"
   },
   "outputs": [],
   "source": [
    "mobilenet_metrices['f1'] = f1_score(testImageset.labels,y_preds.argmax(axis=1),average='weighted')"
   ]
  },
  {
   "cell_type": "code",
   "execution_count": null,
   "metadata": {
    "executionInfo": {
     "elapsed": 3,
     "status": "ok",
     "timestamp": 1667831619817,
     "user": {
      "displayName": "Subhodeep Mondal",
      "userId": "03058709964601180377"
     },
     "user_tz": -330
    },
    "id": "thjzuXZHM-V_"
   },
   "outputs": [],
   "source": [
    "mobilenet_metrices['recall'] = recall_score(testImageset.labels,y_preds.argmax(axis=1),average='weighted')"
   ]
  },
  {
   "cell_type": "markdown",
   "metadata": {
    "id": "OSliMXfNOPnX"
   },
   "source": [
    "## 3. Transfer Learning using Densenet121:"
   ]
  },
  {
   "cell_type": "markdown",
   "metadata": {
    "id": "irO4DOnyOWUE"
   },
   "source": [
    "### 1. Prepare the dataset for the transfer learning algorithm using Densenet121 with the image size as 224x224x3"
   ]
  },
  {
   "cell_type": "code",
   "execution_count": null,
   "metadata": {
    "executionInfo": {
     "elapsed": 2,
     "status": "ok",
     "timestamp": 1667831619817,
     "user": {
      "displayName": "Subhodeep Mondal",
      "userId": "03058709964601180377"
     },
     "user_tz": -330
    },
    "id": "TLc28QnVeYIO"
   },
   "outputs": [],
   "source": [
    "from tensorflow.keras.applications.densenet import DenseNet121 \n",
    "from tensorflow.keras.applications.densenet import preprocess_input"
   ]
  },
  {
   "cell_type": "code",
   "execution_count": null,
   "metadata": {
    "executionInfo": {
     "elapsed": 2,
     "status": "ok",
     "timestamp": 1667831619817,
     "user": {
      "displayName": "Subhodeep Mondal",
      "userId": "03058709964601180377"
     },
     "user_tz": -330
    },
    "id": "6rn4S93hSgmA"
   },
   "outputs": [],
   "source": [
    "train_image_densenet = ImageDataGenerator(rescale=1/255.,preprocessing_function=preprocess_input)\n",
    "test_image_densenet = ImageDataGenerator(rescale=1/255.,preprocessing_function=preprocess_input)"
   ]
  },
  {
   "cell_type": "code",
   "execution_count": null,
   "metadata": {
    "colab": {
     "base_uri": "https://localhost:8080/"
    },
    "executionInfo": {
     "elapsed": 828,
     "status": "ok",
     "timestamp": 1667831620643,
     "user": {
      "displayName": "Subhodeep Mondal",
      "userId": "03058709964601180377"
     },
     "user_tz": -330
    },
    "id": "yD3AGsSSTHBk",
    "outputId": "bb614f69-6949-4d22-b385-e44f033d6281"
   },
   "outputs": [],
   "source": [
    "train_imageset_densenet = train_image_densenet.flow_from_directory('/content/drive/MyDrive/Python Notebooks/Tensorflow_AI/Dataset/Lung Infection/train',\n",
    "                                                                   target_size=(224,224))\n",
    "test_imageset_densenet = test_image_densenet.flow_from_directory('/content/drive/MyDrive/Python Notebooks/Tensorflow_AI/Dataset/Lung Infection/test',\n",
    "                                                                   target_size=(224,224))"
   ]
  },
  {
   "cell_type": "code",
   "execution_count": null,
   "metadata": {
    "colab": {
     "base_uri": "https://localhost:8080/"
    },
    "executionInfo": {
     "elapsed": 3617,
     "status": "ok",
     "timestamp": 1667831624259,
     "user": {
      "displayName": "Subhodeep Mondal",
      "userId": "03058709964601180377"
     },
     "user_tz": -330
    },
    "id": "oEGywxBGT8eR",
    "outputId": "36ad7f63-e727-4f32-c32d-e15daf96fd02"
   },
   "outputs": [],
   "source": [
    "densenet_base_model = DenseNet121(input_shape=train_imageset_densenet.image_shape,include_top=False)\n"
   ]
  },
  {
   "cell_type": "markdown",
   "metadata": {
    "id": "P23TP1hEOsjQ"
   },
   "source": [
    "### 2. Freeze the top layers of the pre-trained model"
   ]
  },
  {
   "cell_type": "code",
   "execution_count": null,
   "metadata": {
    "executionInfo": {
     "elapsed": 5,
     "status": "ok",
     "timestamp": 1667831624259,
     "user": {
      "displayName": "Subhodeep Mondal",
      "userId": "03058709964601180377"
     },
     "user_tz": -330
    },
    "id": "r-sAyzSuO3pQ"
   },
   "outputs": [],
   "source": [
    "densenet_base_model.layers[0].trainable = False"
   ]
  },
  {
   "cell_type": "markdown",
   "metadata": {
    "id": "eMugWJBAPTpQ"
   },
   "source": [
    "### 3. Add a dense layer at the end of the pre-trained model followed by a dropout layer and try various combinations to get an accuracy\n",
    "\n",
    "### 4. Add the final output layer with a SoftMax activation function"
   ]
  },
  {
   "cell_type": "code",
   "execution_count": null,
   "metadata": {
    "executionInfo": {
     "elapsed": 5,
     "status": "ok",
     "timestamp": 1667831624260,
     "user": {
      "displayName": "Subhodeep Mondal",
      "userId": "03058709964601180377"
     },
     "user_tz": -330
    },
    "id": "_Zqx6K_0PYJ-"
   },
   "outputs": [],
   "source": [
    "x = densenet_base_model.output\n",
    "x = layers.Flatten()(x)\n",
    "x = layers.Dense(1024,activation='relu')(x)\n",
    "x = layers.Dropout(0.2)(x)\n",
    "#x = layers.Dense(1024,activation='relu')(x)\n",
    "densenet_predict = layers.Dense(3,activation='softmax')(x)\n",
    "\n",
    "model = models.Model(inputs=densenet_base_model.input,outputs=densenet_predict)"
   ]
  },
  {
   "cell_type": "markdown",
   "metadata": {
    "id": "EnuDIL9FPxQs"
   },
   "source": [
    "### 5. Take loss function as categorical cross-entropy\n",
    "\n",
    "### 6. Take Adam as an optimizer\n",
    "\n",
    "### 7. Use early stopping to prevent overfitting"
   ]
  },
  {
   "cell_type": "code",
   "execution_count": null,
   "metadata": {
    "colab": {
     "base_uri": "https://localhost:8080/"
    },
    "executionInfo": {
     "elapsed": 7328,
     "status": "ok",
     "timestamp": 1667831631583,
     "user": {
      "displayName": "Subhodeep Mondal",
      "userId": "03058709964601180377"
     },
     "user_tz": -330
    },
    "id": "sfvy4NseVPkU",
    "outputId": "5ab2ddc8-8a4d-43e6-d49e-315c2755eb66"
   },
   "outputs": [],
   "source": [
    "callback = EarlyStopping(monitor='val_accuracy',patience=2, min_delta = 0 )\n",
    "model.compile(optimizer='ADAM',loss='categorical_crossentropy',metrics=['accuracy'])\n",
    "model.summary()"
   ]
  },
  {
   "cell_type": "markdown",
   "metadata": {
    "id": "l7QzUJOWQftJ"
   },
   "source": [
    "### 8. Try with 15 number of epoch and batch size with seven, also try various values to see the impact on results\n",
    "### 9. Train the model using the generator and test the accuracy of the test data at every epoch "
   ]
  },
  {
   "cell_type": "code",
   "execution_count": null,
   "metadata": {
    "colab": {
     "base_uri": "https://localhost:8080/"
    },
    "executionInfo": {
     "elapsed": 741171,
     "status": "ok",
     "timestamp": 1667832372734,
     "user": {
      "displayName": "Subhodeep Mondal",
      "userId": "03058709964601180377"
     },
     "user_tz": -330
    },
    "id": "EI_QnMLdVoTy",
    "outputId": "f1c72f13-4450-4bef-df1a-10b6c00b99df"
   },
   "outputs": [],
   "source": [
    "model_hist_densenet = model.fit(train_imageset_densenet,epochs=15,validation_data=test_imageset_densenet,callbacks= [callback])"
   ]
  },
  {
   "cell_type": "markdown",
   "metadata": {
    "id": "MidCCjOUQyI6"
   },
   "source": [
    "###  10. Plot the training and validation accuracy, and the loss"
   ]
  },
  {
   "cell_type": "code",
   "execution_count": null,
   "metadata": {
    "colab": {
     "base_uri": "https://localhost:8080/",
     "height": 265
    },
    "executionInfo": {
     "elapsed": 29968,
     "status": "ok",
     "timestamp": 1667832402700,
     "user": {
      "displayName": "Subhodeep Mondal",
      "userId": "03058709964601180377"
     },
     "user_tz": -330
    },
    "id": "9jXptd00V-Vz",
    "outputId": "10eab770-9c35-4199-c734-560d6279412b"
   },
   "outputs": [],
   "source": [
    "plt.plot(model_hist_densenet.history['accuracy'])\n",
    "plt.plot(model_hist_densenet.history['val_accuracy'])\n",
    "plt.show()"
   ]
  },
  {
   "cell_type": "code",
   "execution_count": null,
   "metadata": {
    "colab": {
     "base_uri": "https://localhost:8080/",
     "height": 265
    },
    "executionInfo": {
     "elapsed": 9,
     "status": "ok",
     "timestamp": 1667832402700,
     "user": {
      "displayName": "Subhodeep Mondal",
      "userId": "03058709964601180377"
     },
     "user_tz": -330
    },
    "id": "mjrYCGcieELQ",
    "outputId": "638d6794-2aa0-4678-cd8d-640639be1aa9"
   },
   "outputs": [],
   "source": [
    "plt.plot(model_hist_densenet.history['loss'])\n",
    "plt.plot(model_hist_densenet.history['val_loss'])\n",
    "plt.show()"
   ]
  },
  {
   "cell_type": "markdown",
   "metadata": {
    "id": "swPq-nG5Q6uY"
   },
   "source": [
    "### 11. Observe the precision, recall the F1-score for all classes for both grayscale and color models, and determine if the model’s classes are good"
   ]
  },
  {
   "cell_type": "code",
   "execution_count": null,
   "metadata": {
    "colab": {
     "base_uri": "https://localhost:8080/"
    },
    "executionInfo": {
     "elapsed": 17719,
     "status": "ok",
     "timestamp": 1667832420411,
     "user": {
      "displayName": "Subhodeep Mondal",
      "userId": "03058709964601180377"
     },
     "user_tz": -330
    },
    "id": "vw2bt4s2eJ7W",
    "outputId": "e8dfe43c-660c-4b33-f861-f1b89a9ece19"
   },
   "outputs": [],
   "source": [
    "from sklearn.metrics import f1_score, recall_score, precision_score\n",
    "import numpy as np\n",
    "\n",
    "y_preds = model.predict(test_imageset_densenet)"
   ]
  },
  {
   "cell_type": "code",
   "execution_count": null,
   "metadata": {
    "executionInfo": {
     "elapsed": 8,
     "status": "ok",
     "timestamp": 1667832420411,
     "user": {
      "displayName": "Subhodeep Mondal",
      "userId": "03058709964601180377"
     },
     "user_tz": -330
    },
    "id": "lHr-nzcSnBds"
   },
   "outputs": [],
   "source": [
    "densenet_metrices = {}"
   ]
  },
  {
   "cell_type": "code",
   "execution_count": null,
   "metadata": {
    "colab": {
     "base_uri": "https://localhost:8080/"
    },
    "executionInfo": {
     "elapsed": 8,
     "status": "ok",
     "timestamp": 1667832420412,
     "user": {
      "displayName": "Subhodeep Mondal",
      "userId": "03058709964601180377"
     },
     "user_tz": -330
    },
    "id": "GpvgwyjnNxyM",
    "outputId": "f2159ad9-5cec-42dd-e5e3-32db8e11ce5e"
   },
   "outputs": [],
   "source": [
    "densenet_metrices['precison'] = precision_score(test_imageset_densenet.labels,y_preds.argmax(axis=1),average='weighted')"
   ]
  },
  {
   "cell_type": "code",
   "execution_count": null,
   "metadata": {
    "executionInfo": {
     "elapsed": 6,
     "status": "ok",
     "timestamp": 1667832420412,
     "user": {
      "displayName": "Subhodeep Mondal",
      "userId": "03058709964601180377"
     },
     "user_tz": -330
    },
    "id": "SPjX1XgHO_T1"
   },
   "outputs": [],
   "source": [
    "densenet_metrices['f1']= f1_score(test_imageset_densenet.labels,y_preds.argmax(axis=1),average='weighted')"
   ]
  },
  {
   "cell_type": "code",
   "execution_count": null,
   "metadata": {
    "executionInfo": {
     "elapsed": 6,
     "status": "ok",
     "timestamp": 1667832420412,
     "user": {
      "displayName": "Subhodeep Mondal",
      "userId": "03058709964601180377"
     },
     "user_tz": -330
    },
    "id": "ivrZn6d6O8Zw"
   },
   "outputs": [],
   "source": [
    "densenet_metrices['recall'] = recall_score(test_imageset_densenet.labels,y_preds.argmax(axis=1),average='weighted')"
   ]
  },
  {
   "cell_type": "markdown",
   "metadata": {
    "id": "S1_hmLGll-ZI"
   },
   "source": [
    "##Final step:   \n"
   ]
  },
  {
   "cell_type": "markdown",
   "metadata": {
    "id": "ecQe4h_9mEzO"
   },
   "source": [
    "### 1.Compare all the models on the basis of accuracy, precision, recall, and f1-score"
   ]
  },
  {
   "cell_type": "code",
   "execution_count": null,
   "metadata": {
    "colab": {
     "base_uri": "https://localhost:8080/",
     "height": 282
    },
    "executionInfo": {
     "elapsed": 6,
     "status": "ok",
     "timestamp": 1667832420412,
     "user": {
      "displayName": "Subhodeep Mondal",
      "userId": "03058709964601180377"
     },
     "user_tz": -330
    },
    "id": "efflJN8ImEIL",
    "outputId": "da9d6518-ad78-41ad-805b-da0b9d0de6de"
   },
   "outputs": [],
   "source": [
    "plt.bar(CNN_metrices.keys(),[CNN_metrices[i] for i in CNN_metrices.keys()])"
   ]
  },
  {
   "cell_type": "code",
   "execution_count": null,
   "metadata": {
    "colab": {
     "base_uri": "https://localhost:8080/",
     "height": 282
    },
    "executionInfo": {
     "elapsed": 1049,
     "status": "ok",
     "timestamp": 1667832421457,
     "user": {
      "displayName": "Subhodeep Mondal",
      "userId": "03058709964601180377"
     },
     "user_tz": -330
    },
    "id": "cNMzlo6ln85H",
    "outputId": "6a4c8697-a2e5-4885-dc37-a6da123914dd"
   },
   "outputs": [],
   "source": [
    "plt.bar(mobilenet_metrices.keys(),[mobilenet_metrices[i] for i in mobilenet_metrices.keys()])"
   ]
  },
  {
   "cell_type": "code",
   "execution_count": null,
   "metadata": {
    "colab": {
     "base_uri": "https://localhost:8080/",
     "height": 282
    },
    "executionInfo": {
     "elapsed": 8,
     "status": "ok",
     "timestamp": 1667832421458,
     "user": {
      "displayName": "Subhodeep Mondal",
      "userId": "03058709964601180377"
     },
     "user_tz": -330
    },
    "id": "-uQlN36WoJT-",
    "outputId": "cc2d9914-ea47-4dba-ba32-160ac9709e88"
   },
   "outputs": [],
   "source": [
    "plt.bar(densenet_metrices.keys(),[densenet_metrices[i] for i in densenet_metrices.keys()])"
   ]
  },
  {
   "cell_type": "markdown",
   "metadata": {
    "id": "VLUqULjSo3Us"
   },
   "source": [
    "From the above comparison we can notice that all the models suffers with over-fitting no model performed better than other, so this is not a problem with the model architecture but rather the amount of data the models are trained with. Its only 251 images all total that the models are trained with."
   ]
  }
 ],
 "metadata": {
  "colab": {
   "collapsed_sections": [],
   "provenance": []
  },
  "kernelspec": {
   "display_name": "Python 3 (ipykernel)",
   "language": "python",
   "name": "python3"
  },
  "language_info": {
   "codemirror_mode": {
    "name": "ipython",
    "version": 3
   },
   "file_extension": ".py",
   "mimetype": "text/x-python",
   "name": "python",
   "nbconvert_exporter": "python",
   "pygments_lexer": "ipython3",
   "version": "3.9.13"
  },
  "vscode": {
   "interpreter": {
    "hash": "24b6e52a6282a73fb8bf73a8cd84621e73093764af332eca1cf85c4ff4628eaf"
   }
  }
 },
 "nbformat": 4,
 "nbformat_minor": 1
}
