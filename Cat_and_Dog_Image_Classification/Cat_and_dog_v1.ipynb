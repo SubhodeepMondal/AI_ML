{
 "cells": [
  {
   "cell_type": "code",
   "execution_count": 1,
   "metadata": {},
   "outputs": [
    {
     "name": "stderr",
     "output_type": "stream",
     "text": [
      "2023-08-07 19:36:12.791468: I tensorflow/stream_executor/platform/default/dso_loader.cc:49] Successfully opened dynamic library libcudart.so.10.1\n"
     ]
    }
   ],
   "source": [
    "import numpy as np\n",
    "import pandas as pd\n",
    "import matplotlib.pyplot as plt\n",
    "import seaborn as sns\n",
    "\n",
    "from tensorflow.keras import layers,models,optimizers,regularizers\n",
    "from tensorflow.keras.preprocessing.image import ImageDataGenerator"
   ]
  },
  {
   "cell_type": "code",
   "execution_count": 2,
   "metadata": {},
   "outputs": [],
   "source": [
    "train_gen = ImageDataGenerator(rescale=1/255.0)\n",
    "\n",
    "test_gen = ImageDataGenerator(rescale=1/255.0)"
   ]
  },
  {
   "cell_type": "code",
   "execution_count": 3,
   "metadata": {},
   "outputs": [
    {
     "name": "stdout",
     "output_type": "stream",
     "text": [
      "Found 1600 images belonging to 2 classes.\n",
      "Found 1000 images belonging to 2 classes.\n"
     ]
    }
   ],
   "source": [
    "trainImageData = train_gen.flow_from_directory(\"../../Datasets/cats_and_dogs/train/\",\n",
    "                                                batch_size=8,\n",
    "                                                class_mode=\"binary\",\n",
    "                                                target_size=(128,128))\n",
    "\n",
    "testImageData = test_gen.flow_from_directory(\"../../Datasets/cats_and_dogs/validation/\",\n",
    "                                                    batch_size=8,\n",
    "                                                    class_mode=\"binary\",\n",
    "                                                    target_size=(128,128))"
   ]
  },
  {
   "cell_type": "code",
   "execution_count": 4,
   "metadata": {},
   "outputs": [
    {
     "data": {
      "text/plain": [
       "{'cats': 0, 'dogs': 1}"
      ]
     },
     "execution_count": 4,
     "metadata": {},
     "output_type": "execute_result"
    }
   ],
   "source": [
    "trainImageData.class_indices"
   ]
  },
  {
   "cell_type": "code",
   "execution_count": 5,
   "metadata": {},
   "outputs": [
    {
     "data": {
      "text/plain": [
       "(128, 128, 3)"
      ]
     },
     "execution_count": 5,
     "metadata": {},
     "output_type": "execute_result"
    }
   ],
   "source": [
    "trainImageData.image_shape"
   ]
  },
  {
   "cell_type": "code",
   "execution_count": 6,
   "metadata": {},
   "outputs": [],
   "source": [
    "trainImageData.index_array"
   ]
  },
  {
   "cell_type": "code",
   "execution_count": 13,
   "metadata": {},
   "outputs": [],
   "source": [
    "def build_model():\n",
    "    model = models.Sequential()\n",
    "    NO_CLASSES = 1\n",
    "    # 1st block\n",
    "    model.add(layers.Conv2D(16,(3,3),padding='same', input_shape=trainImageData.image_shape, activation='relu'))\n",
    "    model.add(layers.Conv2D(16,(3,3), padding='same', activation ='relu'))\n",
    "    model.add(layers.MaxPooling2D( pool_size=(2,2)))\n",
    "\n",
    "    model.add(layers.Conv2D(32,(3,3), padding='same', activation ='relu'))\n",
    "    model.add(layers.Conv2D(32,(3,3), padding='same', activation ='relu'))\n",
    "    model.add(layers.MaxPooling2D( pool_size=(2,2)))\n",
    "\n",
    "\n",
    "    # 2nd block\n",
    "    model.add(layers.Conv2D(64,(3,3), padding='same', activation ='relu'))\n",
    "    model.add(layers.Conv2D(64,(3,3), padding='same', activation='relu'))\n",
    "    model.add(layers.BatchNormalization())\n",
    "    model.add(layers.MaxPooling2D( pool_size=(2,2)))\n",
    "    model.add(layers.Dropout(0.4))   \n",
    "    \n",
    "    # 3rd block\n",
    "    model.add(layers.Conv2D(128,(3,3), padding='same', activation ='relu'))\n",
    "    model.add(layers.Conv2D(128,(3,3), padding='same', activation='relu'))\n",
    "    model.add(layers.BatchNormalization())\n",
    "    model.add(layers.MaxPooling2D( pool_size=(2,2)))\n",
    "    model.add(layers.Dropout(0.6))\n",
    "\n",
    "\n",
    "\n",
    "    # Flatten Layer\n",
    "    model.add(layers.Flatten())\n",
    "\n",
    "    # Fully Connected layers\n",
    "    # model.add(layers.Dense(8, activation= 'relu'))\n",
    "    model.add(layers.Dense(8, activation= 'relu'))\n",
    "    model.add(layers.Dense(NO_CLASSES, activation= 'sigmoid'))\n",
    "\n",
    "    #model.summery()\n",
    "    return model\n"
   ]
  },
  {
   "cell_type": "code",
   "execution_count": 14,
   "metadata": {},
   "outputs": [
    {
     "name": "stdout",
     "output_type": "stream",
     "text": [
      "Model: \"sequential_3\"\n",
      "_________________________________________________________________\n",
      "Layer (type)                 Output Shape              Param #   \n",
      "=================================================================\n",
      "conv2d_21 (Conv2D)           (None, 128, 128, 16)      448       \n",
      "_________________________________________________________________\n",
      "conv2d_22 (Conv2D)           (None, 128, 128, 16)      2320      \n",
      "_________________________________________________________________\n",
      "max_pooling2d_11 (MaxPooling (None, 64, 64, 16)        0         \n",
      "_________________________________________________________________\n",
      "conv2d_23 (Conv2D)           (None, 64, 64, 32)        4640      \n",
      "_________________________________________________________________\n",
      "conv2d_24 (Conv2D)           (None, 64, 64, 32)        9248      \n",
      "_________________________________________________________________\n",
      "max_pooling2d_12 (MaxPooling (None, 32, 32, 32)        0         \n",
      "_________________________________________________________________\n",
      "conv2d_25 (Conv2D)           (None, 32, 32, 64)        18496     \n",
      "_________________________________________________________________\n",
      "conv2d_26 (Conv2D)           (None, 32, 32, 64)        36928     \n",
      "_________________________________________________________________\n",
      "batch_normalization_5 (Batch (None, 32, 32, 64)        256       \n",
      "_________________________________________________________________\n",
      "max_pooling2d_13 (MaxPooling (None, 16, 16, 64)        0         \n",
      "_________________________________________________________________\n",
      "dropout_5 (Dropout)          (None, 16, 16, 64)        0         \n",
      "_________________________________________________________________\n",
      "conv2d_27 (Conv2D)           (None, 16, 16, 128)       73856     \n",
      "_________________________________________________________________\n",
      "conv2d_28 (Conv2D)           (None, 16, 16, 128)       147584    \n",
      "_________________________________________________________________\n",
      "batch_normalization_6 (Batch (None, 16, 16, 128)       512       \n",
      "_________________________________________________________________\n",
      "max_pooling2d_14 (MaxPooling (None, 8, 8, 128)         0         \n",
      "_________________________________________________________________\n",
      "dropout_6 (Dropout)          (None, 8, 8, 128)         0         \n",
      "_________________________________________________________________\n",
      "flatten_3 (Flatten)          (None, 8192)              0         \n",
      "_________________________________________________________________\n",
      "dense_3 (Dense)              (None, 8)                 65544     \n",
      "_________________________________________________________________\n",
      "dense_4 (Dense)              (None, 1)                 9         \n",
      "=================================================================\n",
      "Total params: 359,841\n",
      "Trainable params: 359,457\n",
      "Non-trainable params: 384\n",
      "_________________________________________________________________\n"
     ]
    }
   ],
   "source": [
    "model = build_model()\n",
    "model.compile(loss='binary_crossentropy',optimizer='ADAM',metrics=['accuracy'])\n",
    "model.summary()"
   ]
  },
  {
   "cell_type": "code",
   "execution_count": 15,
   "metadata": {},
   "outputs": [
    {
     "name": "stdout",
     "output_type": "stream",
     "text": [
      "Epoch 1/50\n",
      "200/200 [==============================] - 5s 26ms/step - loss: 0.8017 - accuracy: 0.5295 - val_loss: 2.1809 - val_accuracy: 0.5000\n",
      "Epoch 2/50\n",
      "200/200 [==============================] - 5s 27ms/step - loss: 0.6836 - accuracy: 0.5701 - val_loss: 0.6928 - val_accuracy: 0.4990\n",
      "Epoch 3/50\n",
      "200/200 [==============================] - 5s 27ms/step - loss: 0.6745 - accuracy: 0.5829 - val_loss: 1.2801 - val_accuracy: 0.5050\n",
      "Epoch 4/50\n",
      "200/200 [==============================] - 5s 27ms/step - loss: 0.6580 - accuracy: 0.6374 - val_loss: 0.6954 - val_accuracy: 0.5000\n",
      "Epoch 5/50\n",
      "200/200 [==============================] - 5s 27ms/step - loss: 0.6645 - accuracy: 0.6278 - val_loss: 0.6976 - val_accuracy: 0.4970\n",
      "Epoch 6/50\n",
      "200/200 [==============================] - 5s 27ms/step - loss: 0.6727 - accuracy: 0.5967 - val_loss: 0.8665 - val_accuracy: 0.5260\n",
      "Epoch 7/50\n",
      "200/200 [==============================] - 5s 27ms/step - loss: 0.6530 - accuracy: 0.6234 - val_loss: 0.7069 - val_accuracy: 0.4930\n",
      "Epoch 8/50\n",
      "200/200 [==============================] - 5s 26ms/step - loss: 0.6634 - accuracy: 0.6248 - val_loss: 0.6999 - val_accuracy: 0.5000\n",
      "Epoch 9/50\n",
      "200/200 [==============================] - 6s 28ms/step - loss: 0.6651 - accuracy: 0.6111 - val_loss: 0.7018 - val_accuracy: 0.5000\n",
      "Epoch 10/50\n",
      "200/200 [==============================] - 5s 27ms/step - loss: 0.6485 - accuracy: 0.6315 - val_loss: 0.6404 - val_accuracy: 0.6160\n",
      "Epoch 11/50\n",
      "200/200 [==============================] - 5s 26ms/step - loss: 0.6388 - accuracy: 0.6296 - val_loss: 0.8921 - val_accuracy: 0.5380\n",
      "Epoch 12/50\n",
      "200/200 [==============================] - 5s 27ms/step - loss: 0.6527 - accuracy: 0.6103 - val_loss: 0.6341 - val_accuracy: 0.6220\n",
      "Epoch 13/50\n",
      "200/200 [==============================] - 5s 26ms/step - loss: 0.6379 - accuracy: 0.6257 - val_loss: 0.6773 - val_accuracy: 0.5640\n",
      "Epoch 14/50\n",
      "200/200 [==============================] - 5s 27ms/step - loss: 0.6379 - accuracy: 0.6535 - val_loss: 0.6369 - val_accuracy: 0.6460\n",
      "Epoch 15/50\n",
      "200/200 [==============================] - 5s 27ms/step - loss: 0.6206 - accuracy: 0.6275 - val_loss: 2.5155 - val_accuracy: 0.5140\n",
      "Epoch 16/50\n",
      "200/200 [==============================] - 5s 27ms/step - loss: 0.6206 - accuracy: 0.6668 - val_loss: 0.6173 - val_accuracy: 0.6320\n",
      "Epoch 17/50\n",
      "200/200 [==============================] - 6s 28ms/step - loss: 0.6191 - accuracy: 0.6558 - val_loss: 0.6420 - val_accuracy: 0.6340\n",
      "Epoch 18/50\n",
      "200/200 [==============================] - 5s 26ms/step - loss: 0.6156 - accuracy: 0.6715 - val_loss: 0.8603 - val_accuracy: 0.5050\n",
      "Epoch 19/50\n",
      "200/200 [==============================] - 5s 27ms/step - loss: 0.6142 - accuracy: 0.6676 - val_loss: 0.6572 - val_accuracy: 0.6440\n",
      "Epoch 20/50\n",
      "200/200 [==============================] - 5s 27ms/step - loss: 0.5834 - accuracy: 0.7066 - val_loss: 0.6122 - val_accuracy: 0.6620\n",
      "Epoch 21/50\n",
      "200/200 [==============================] - 5s 27ms/step - loss: 0.5872 - accuracy: 0.6976 - val_loss: 0.7639 - val_accuracy: 0.5700\n",
      "Epoch 22/50\n",
      "200/200 [==============================] - 6s 28ms/step - loss: 0.5859 - accuracy: 0.7000 - val_loss: 0.9220 - val_accuracy: 0.5740\n",
      "Epoch 23/50\n",
      "200/200 [==============================] - 5s 26ms/step - loss: 0.5700 - accuracy: 0.7147 - val_loss: 0.7561 - val_accuracy: 0.5010\n",
      "Epoch 24/50\n",
      "200/200 [==============================] - 5s 27ms/step - loss: 0.5658 - accuracy: 0.6983 - val_loss: 0.6756 - val_accuracy: 0.6060\n",
      "Epoch 25/50\n",
      "200/200 [==============================] - 6s 28ms/step - loss: 0.5544 - accuracy: 0.7175 - val_loss: 0.6675 - val_accuracy: 0.6240\n",
      "Epoch 26/50\n",
      "200/200 [==============================] - 5s 27ms/step - loss: 0.5335 - accuracy: 0.7449 - val_loss: 0.6083 - val_accuracy: 0.6720\n",
      "Epoch 27/50\n",
      "200/200 [==============================] - 6s 28ms/step - loss: 0.5225 - accuracy: 0.7594 - val_loss: 0.6418 - val_accuracy: 0.6560\n",
      "Epoch 28/50\n",
      "200/200 [==============================] - 5s 27ms/step - loss: 0.5303 - accuracy: 0.7525 - val_loss: 0.6143 - val_accuracy: 0.6610\n",
      "Epoch 29/50\n",
      "200/200 [==============================] - 5s 27ms/step - loss: 0.5038 - accuracy: 0.7758 - val_loss: 1.0089 - val_accuracy: 0.5630\n",
      "Epoch 30/50\n",
      "200/200 [==============================] - 5s 27ms/step - loss: 0.5387 - accuracy: 0.7387 - val_loss: 0.6128 - val_accuracy: 0.6660\n",
      "Epoch 31/50\n",
      "200/200 [==============================] - 5s 26ms/step - loss: 0.5187 - accuracy: 0.7399 - val_loss: 0.6284 - val_accuracy: 0.6500\n",
      "Epoch 32/50\n",
      "200/200 [==============================] - 5s 26ms/step - loss: 0.4934 - accuracy: 0.7767 - val_loss: 0.6351 - val_accuracy: 0.6530\n",
      "Epoch 33/50\n",
      "200/200 [==============================] - 5s 27ms/step - loss: 0.4961 - accuracy: 0.7784 - val_loss: 0.6182 - val_accuracy: 0.6960\n",
      "Epoch 34/50\n",
      "200/200 [==============================] - 6s 28ms/step - loss: 0.4670 - accuracy: 0.7845 - val_loss: 0.7671 - val_accuracy: 0.5300\n",
      "Epoch 35/50\n",
      "200/200 [==============================] - 5s 27ms/step - loss: 0.4814 - accuracy: 0.7692 - val_loss: 0.6528 - val_accuracy: 0.6640\n",
      "Epoch 36/50\n",
      "200/200 [==============================] - 6s 28ms/step - loss: 0.4743 - accuracy: 0.7807 - val_loss: 0.6326 - val_accuracy: 0.6600\n",
      "Epoch 37/50\n",
      "200/200 [==============================] - 5s 27ms/step - loss: 0.4084 - accuracy: 0.8208 - val_loss: 0.7217 - val_accuracy: 0.6140\n",
      "Epoch 38/50\n",
      "200/200 [==============================] - 5s 27ms/step - loss: 0.4372 - accuracy: 0.8169 - val_loss: 0.6755 - val_accuracy: 0.6640\n",
      "Epoch 39/50\n",
      "200/200 [==============================] - 5s 27ms/step - loss: 0.4633 - accuracy: 0.8023 - val_loss: 0.6270 - val_accuracy: 0.6900\n",
      "Epoch 40/50\n",
      "200/200 [==============================] - 5s 27ms/step - loss: 0.3985 - accuracy: 0.8401 - val_loss: 1.5183 - val_accuracy: 0.5510\n",
      "Epoch 41/50\n",
      "200/200 [==============================] - 5s 27ms/step - loss: 0.4053 - accuracy: 0.8411 - val_loss: 0.6710 - val_accuracy: 0.6730\n",
      "Epoch 42/50\n",
      "200/200 [==============================] - 5s 27ms/step - loss: 0.4174 - accuracy: 0.8260 - val_loss: 0.7447 - val_accuracy: 0.6200\n",
      "Epoch 43/50\n",
      "200/200 [==============================] - 5s 27ms/step - loss: 0.4218 - accuracy: 0.8167 - val_loss: 0.6627 - val_accuracy: 0.6560\n",
      "Epoch 44/50\n",
      "200/200 [==============================] - 5s 27ms/step - loss: 0.4015 - accuracy: 0.8348 - val_loss: 1.0453 - val_accuracy: 0.5940\n",
      "Epoch 45/50\n",
      "200/200 [==============================] - 6s 28ms/step - loss: 0.3879 - accuracy: 0.8375 - val_loss: 0.6443 - val_accuracy: 0.6840\n",
      "Epoch 46/50\n",
      "200/200 [==============================] - 6s 28ms/step - loss: 0.3436 - accuracy: 0.8665 - val_loss: 0.6854 - val_accuracy: 0.6680\n",
      "Epoch 47/50\n",
      "200/200 [==============================] - 5s 27ms/step - loss: 0.3503 - accuracy: 0.8577 - val_loss: 0.7046 - val_accuracy: 0.6770\n",
      "Epoch 48/50\n",
      "200/200 [==============================] - 5s 26ms/step - loss: 0.3711 - accuracy: 0.8548 - val_loss: 0.8274 - val_accuracy: 0.5540\n",
      "Epoch 49/50\n",
      "200/200 [==============================] - 5s 27ms/step - loss: 0.3622 - accuracy: 0.8535 - val_loss: 0.8710 - val_accuracy: 0.5510\n",
      "Epoch 50/50\n",
      "200/200 [==============================] - 5s 26ms/step - loss: 0.3531 - accuracy: 0.8706 - val_loss: 0.8357 - val_accuracy: 0.5600\n"
     ]
    },
    {
     "data": {
      "text/plain": [
       "<tensorflow.python.keras.callbacks.History at 0x7fdf981726d0>"
      ]
     },
     "execution_count": 15,
     "metadata": {},
     "output_type": "execute_result"
    }
   ],
   "source": [
    "\n",
    "model.fit(trainImageData,validation_data=testImageData,epochs=50)"
   ]
  },
  {
   "cell_type": "code",
   "execution_count": null,
   "metadata": {},
   "outputs": [],
   "source": []
  }
 ],
 "metadata": {
  "kernelspec": {
   "display_name": "Python 3.8.13 ('ArtificialIntel')",
   "language": "python",
   "name": "python3"
  },
  "language_info": {
   "codemirror_mode": {
    "name": "ipython",
    "version": 3
   },
   "file_extension": ".py",
   "mimetype": "text/x-python",
   "name": "python",
   "nbconvert_exporter": "python",
   "pygments_lexer": "ipython3",
   "version": "3.7.15"
  },
  "orig_nbformat": 4,
  "vscode": {
   "interpreter": {
    "hash": "24b6e52a6282a73fb8bf73a8cd84621e73093764af332eca1cf85c4ff4628eaf"
   }
  }
 },
 "nbformat": 4,
 "nbformat_minor": 2
}
