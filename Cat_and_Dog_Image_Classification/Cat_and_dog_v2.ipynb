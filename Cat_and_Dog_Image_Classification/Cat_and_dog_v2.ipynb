{
 "cells": [
  {
   "cell_type": "code",
   "execution_count": 1,
   "metadata": {},
   "outputs": [],
   "source": [
    "import pandas as pd\n",
    "import numpy as np\n",
    "import os\n",
    "os.environ['TF_CPP_MIN_LOG_LEVEL'] = '2'\n",
    "import time\n",
    "import matplotlib.pyplot as plt\n",
    "import cv2\n",
    "import seaborn as sns\n",
    "sns.set_style('darkgrid')\n",
    "import shutil\n",
    "from sklearn.metrics import confusion_matrix, classification_report, f1_score\n",
    "from sklearn.model_selection import train_test_split\n",
    "import tensorflow as tf\n",
    "from tensorflow import keras\n",
    "from tensorflow.keras.preprocessing.image import ImageDataGenerator\n",
    "from tensorflow.keras import layers,models\n",
    "from tensorflow.keras.optimizers import Adam, Adamax\n",
    "from tensorflow.keras.metrics import categorical_crossentropy\n",
    "from tensorflow.keras import regularizers\n",
    "\n",
    "import sys"
   ]
  },
  {
   "cell_type": "code",
   "execution_count": 3,
   "metadata": {},
   "outputs": [],
   "source": [
    "dataset_path = '../../Datasets/cats_and_dogs/train'\n",
    "df = pd.DataFrame(columns=['filepath','label'])\n",
    "os.listdir(dataset_path)\n",
    "os.listdir(dataset_path)\n",
    "for folder in os.listdir(dataset_path):\n",
    "    list = os.path.join(dataset_path, folder)\n",
    "    # print(os.listdir(list))\n",
    "    for items in os.listdir(list):\n",
    "        dict = {'filepath':os.path.join(list,items),'label':folder}\n",
    "        df = df.append(dict, ignore_index=True)"
   ]
  },
  {
   "cell_type": "code",
   "execution_count": 4,
   "metadata": {},
   "outputs": [
    {
     "data": {
      "text/html": [
       "<div>\n",
       "<style scoped>\n",
       "    .dataframe tbody tr th:only-of-type {\n",
       "        vertical-align: middle;\n",
       "    }\n",
       "\n",
       "    .dataframe tbody tr th {\n",
       "        vertical-align: top;\n",
       "    }\n",
       "\n",
       "    .dataframe thead th {\n",
       "        text-align: right;\n",
       "    }\n",
       "</style>\n",
       "<table border=\"1\" class=\"dataframe\">\n",
       "  <thead>\n",
       "    <tr style=\"text-align: right;\">\n",
       "      <th></th>\n",
       "      <th>filepath</th>\n",
       "      <th>label</th>\n",
       "    </tr>\n",
       "  </thead>\n",
       "  <tbody>\n",
       "    <tr>\n",
       "      <th>800</th>\n",
       "      <td>../../Datasets/cats_and_dogs/train/dogs/dog.55...</td>\n",
       "      <td>dogs</td>\n",
       "    </tr>\n",
       "    <tr>\n",
       "      <th>801</th>\n",
       "      <td>../../Datasets/cats_and_dogs/train/dogs/dog.20...</td>\n",
       "      <td>dogs</td>\n",
       "    </tr>\n",
       "    <tr>\n",
       "      <th>802</th>\n",
       "      <td>../../Datasets/cats_and_dogs/train/dogs/dog.20...</td>\n",
       "      <td>dogs</td>\n",
       "    </tr>\n",
       "    <tr>\n",
       "      <th>803</th>\n",
       "      <td>../../Datasets/cats_and_dogs/train/dogs/dog.20...</td>\n",
       "      <td>dogs</td>\n",
       "    </tr>\n",
       "    <tr>\n",
       "      <th>804</th>\n",
       "      <td>../../Datasets/cats_and_dogs/train/dogs/dog.20...</td>\n",
       "      <td>dogs</td>\n",
       "    </tr>\n",
       "    <tr>\n",
       "      <th>...</th>\n",
       "      <td>...</td>\n",
       "      <td>...</td>\n",
       "    </tr>\n",
       "    <tr>\n",
       "      <th>1595</th>\n",
       "      <td>../../Datasets/cats_and_dogs/train/dogs/dog.99...</td>\n",
       "      <td>dogs</td>\n",
       "    </tr>\n",
       "    <tr>\n",
       "      <th>1596</th>\n",
       "      <td>../../Datasets/cats_and_dogs/train/dogs/dog.99...</td>\n",
       "      <td>dogs</td>\n",
       "    </tr>\n",
       "    <tr>\n",
       "      <th>1597</th>\n",
       "      <td>../../Datasets/cats_and_dogs/train/dogs/dog.99...</td>\n",
       "      <td>dogs</td>\n",
       "    </tr>\n",
       "    <tr>\n",
       "      <th>1598</th>\n",
       "      <td>../../Datasets/cats_and_dogs/train/dogs/dog.99...</td>\n",
       "      <td>dogs</td>\n",
       "    </tr>\n",
       "    <tr>\n",
       "      <th>1599</th>\n",
       "      <td>../../Datasets/cats_and_dogs/train/dogs/dog.99...</td>\n",
       "      <td>dogs</td>\n",
       "    </tr>\n",
       "  </tbody>\n",
       "</table>\n",
       "<p>800 rows × 2 columns</p>\n",
       "</div>"
      ],
      "text/plain": [
       "                                               filepath label\n",
       "800   ../../Datasets/cats_and_dogs/train/dogs/dog.55...  dogs\n",
       "801   ../../Datasets/cats_and_dogs/train/dogs/dog.20...  dogs\n",
       "802   ../../Datasets/cats_and_dogs/train/dogs/dog.20...  dogs\n",
       "803   ../../Datasets/cats_and_dogs/train/dogs/dog.20...  dogs\n",
       "804   ../../Datasets/cats_and_dogs/train/dogs/dog.20...  dogs\n",
       "...                                                 ...   ...\n",
       "1595  ../../Datasets/cats_and_dogs/train/dogs/dog.99...  dogs\n",
       "1596  ../../Datasets/cats_and_dogs/train/dogs/dog.99...  dogs\n",
       "1597  ../../Datasets/cats_and_dogs/train/dogs/dog.99...  dogs\n",
       "1598  ../../Datasets/cats_and_dogs/train/dogs/dog.99...  dogs\n",
       "1599  ../../Datasets/cats_and_dogs/train/dogs/dog.99...  dogs\n",
       "\n",
       "[800 rows x 2 columns]"
      ]
     },
     "execution_count": 4,
     "metadata": {},
     "output_type": "execute_result"
    }
   ],
   "source": [
    "groups = df.groupby('label')\n",
    "groups.get_group('dogs')"
   ]
  },
  {
   "cell_type": "code",
   "execution_count": 11,
   "metadata": {},
   "outputs": [
    {
     "name": "stdout",
     "output_type": "stream",
     "text": [
      "Found 1600 validated image filenames.\n",
      "Found 1600 validated image filenames.\n"
     ]
    }
   ],
   "source": [
    "target_path = '../../Datasets/cats_and_dogs/aug'\n",
    "trainImageData = ImageDataGenerator(horizontal_flip=True, rotation_range=20, width_shift_range=0.2, height_shift_range=0.2, zoom_range=0.2,rescale=1/255.0)\n",
    "\n",
    "groups = df.groupby('label')\n",
    "total = 0\n",
    "\n",
    "for items in df['label'].unique():\n",
    "    aug_image_count = 0\n",
    "    group = groups.get_group(items)\n",
    "    delta = 850 - len(group)\n",
    "    target_path_label = os.path.join(target_path,items)\n",
    "    os.mkdir(target_path_label)\n",
    "    trainImage = trainImageData.flow_from_dataframe(df,x_col='filepath',y_col=None, target_size=(128,128),class_mode=None, batch_size=1,save_prefix='aug_', save_to_dir=target_path_label, color_mode='rgb', save_format='jpg')\n",
    "    while aug_image_count < delta:\n",
    "        images = next(trainImage)\n",
    "        aug_image_count += len(images)\n",
    "    total += aug_image_count\n",
    "\n",
    "aug_filepath = []\n",
    "aug_label = []\n",
    "\n",
    "classlist = os.listdir(target_path)\n",
    "for kclass in classlist:\n",
    "    classpath = os.path.join(target_path,kclass)\n",
    "    filelist = os.listdir(classpath)\n",
    "    for file in filelist:\n",
    "        filepath = os.path.join(classpath,file)\n",
    "        aug_filepath.append(filepath)\n",
    "        aug_label.append(kclass)\n",
    "\n",
    "Fileseries = pd.Series(aug_filepath,name='filepath')\n",
    "Labelseries = pd.Series(aug_label,name='label')\n",
    "aug_df = pd.concat([Fileseries,Labelseries],axis=1)\n",
    "df = pd.concat([df,aug_df], axis=0).reset_index(drop=True)\n",
    "\n"
   ]
  },
  {
   "cell_type": "code",
   "execution_count": 13,
   "metadata": {},
   "outputs": [
    {
     "name": "stdout",
     "output_type": "stream",
     "text": [
      "Found 1700 validated image filenames belonging to 2 classes.\n"
     ]
    }
   ],
   "source": [
    "def make_gens(batch_size, image_size):\n",
    "    gen = ImageDataGenerator()\n",
    "\n",
    "    train_Images = gen.flow_from_dataframe(df,x_col='filepath',y_col='label',target_size=image_size, class_mode='categorical', batch_size=batch_size)\n",
    "\n",
    "    return train_Images\n",
    "\n",
    "\n",
    "batch_size = 16\n",
    "img_size = (128,128)\n",
    "make_gens(batch_size,img_size)"
   ]
  },
  {
   "cell_type": "code",
   "execution_count": 6,
   "metadata": {},
   "outputs": [],
   "source": [
    "x = np.linspace(-np.pi, np.pi, 200)\n",
    "y =  5 * np.sin(x ) *  np.sin(x - 0.45) * np.sin(x +1.25)"
   ]
  },
  {
   "cell_type": "code",
   "execution_count": 7,
   "metadata": {},
   "outputs": [
    {
     "data": {
      "image/png": "[encoded data removed]",
      "text/plain": [
       "<Figure size 640x480 with 1 Axes>"
      ]
     },
     "metadata": {},
     "output_type": "display_data"
    }
   ],
   "source": [
    "plt.plot(x,y)\n",
    "plt.show()"
   ]
  },
  {
   "cell_type": "code",
   "execution_count": null,
   "metadata": {},
   "outputs": [],
   "source": []
  }
 ],
 "metadata": {
  "kernelspec": {
   "display_name": "Python 3.8.13 ('ArtificialIntel')",
   "language": "python",
   "name": "python3"
  },
  "language_info": {
   "codemirror_mode": {
    "name": "ipython",
    "version": 3
   },
   "file_extension": ".py",
   "mimetype": "text/x-python",
   "name": "python",
   "nbconvert_exporter": "python",
   "pygments_lexer": "ipython3",
   "version": "3.7.15"
  },
  "orig_nbformat": 4,
  "vscode": {
   "interpreter": {
    "hash": "24b6e52a6282a73fb8bf73a8cd84621e73093764af332eca1cf85c4ff4628eaf"
   }
  }
 },
 "nbformat": 4,
 "nbformat_minor": 2
}
