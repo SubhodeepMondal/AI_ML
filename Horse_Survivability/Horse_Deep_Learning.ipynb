{
 "cells": [
  {
   "cell_type": "code",
   "execution_count": 1,
   "metadata": {
    "executionInfo": {
     "elapsed": 3580,
     "status": "ok",
     "timestamp": 1661077237151,
     "user": {
      "displayName": "Subhodeep Mondal",
      "userId": "08622380239934956127"
     },
     "user_tz": -330
    },
    "id": "4DflMst1KdQw"
   },
   "outputs": [],
   "source": [
    "import numpy as np\n",
    "import pandas as pd\n",
    "import matplotlib.pyplot as plt\n",
    "\n",
    "from tensorflow.keras import layers, models,optimizers"
   ]
  },
  {
   "cell_type": "code",
   "execution_count": 4,
   "metadata": {
    "executionInfo": {
     "elapsed": 11,
     "status": "ok",
     "timestamp": 1661077237152,
     "user": {
      "displayName": "Subhodeep Mondal",
      "userId": "08622380239934956127"
     },
     "user_tz": -330
    },
    "id": "C6YQxHX5Nkaj"
   },
   "outputs": [],
   "source": [
    "df = pd.read_csv('../../Datasets/Horse_Survibality/horse.csv')"
   ]
  },
  {
   "cell_type": "code",
   "execution_count": 5,
   "metadata": {
    "colab": {
     "base_uri": "https://localhost:8080/",
     "height": 300
    },
    "executionInfo": {
     "elapsed": 11,
     "status": "ok",
     "timestamp": 1661077237153,
     "user": {
      "displayName": "Subhodeep Mondal",
      "userId": "08622380239934956127"
     },
     "user_tz": -330
    },
    "id": "HzA9AgSQNqt3",
    "outputId": "a711548c-d189-459b-abf0-bee2e19c88ee"
   },
   "outputs": [
    {
     "data": {
      "text/html": [
       "<div>\n",
       "<style scoped>\n",
       "    .dataframe tbody tr th:only-of-type {\n",
       "        vertical-align: middle;\n",
       "    }\n",
       "\n",
       "    .dataframe tbody tr th {\n",
       "        vertical-align: top;\n",
       "    }\n",
       "\n",
       "    .dataframe thead th {\n",
       "        text-align: right;\n",
       "    }\n",
       "</style>\n",
       "<table border=\"1\" class=\"dataframe\">\n",
       "  <thead>\n",
       "    <tr style=\"text-align: right;\">\n",
       "      <th></th>\n",
       "      <th>surgery</th>\n",
       "      <th>age</th>\n",
       "      <th>hospital_number</th>\n",
       "      <th>rectal_temp</th>\n",
       "      <th>pulse</th>\n",
       "      <th>respiratory_rate</th>\n",
       "      <th>temp_of_extremities</th>\n",
       "      <th>peripheral_pulse</th>\n",
       "      <th>mucous_membrane</th>\n",
       "      <th>capillary_refill_time</th>\n",
       "      <th>...</th>\n",
       "      <th>packed_cell_volume</th>\n",
       "      <th>total_protein</th>\n",
       "      <th>abdomo_appearance</th>\n",
       "      <th>abdomo_protein</th>\n",
       "      <th>outcome</th>\n",
       "      <th>surgical_lesion</th>\n",
       "      <th>lesion_1</th>\n",
       "      <th>lesion_2</th>\n",
       "      <th>lesion_3</th>\n",
       "      <th>cp_data</th>\n",
       "    </tr>\n",
       "  </thead>\n",
       "  <tbody>\n",
       "    <tr>\n",
       "      <th>0</th>\n",
       "      <td>no</td>\n",
       "      <td>adult</td>\n",
       "      <td>530101</td>\n",
       "      <td>38.5</td>\n",
       "      <td>66.0</td>\n",
       "      <td>28.0</td>\n",
       "      <td>cool</td>\n",
       "      <td>reduced</td>\n",
       "      <td>NaN</td>\n",
       "      <td>more_3_sec</td>\n",
       "      <td>...</td>\n",
       "      <td>45.0</td>\n",
       "      <td>8.4</td>\n",
       "      <td>NaN</td>\n",
       "      <td>NaN</td>\n",
       "      <td>died</td>\n",
       "      <td>no</td>\n",
       "      <td>11300</td>\n",
       "      <td>0</td>\n",
       "      <td>0</td>\n",
       "      <td>no</td>\n",
       "    </tr>\n",
       "    <tr>\n",
       "      <th>1</th>\n",
       "      <td>yes</td>\n",
       "      <td>adult</td>\n",
       "      <td>534817</td>\n",
       "      <td>39.2</td>\n",
       "      <td>88.0</td>\n",
       "      <td>20.0</td>\n",
       "      <td>NaN</td>\n",
       "      <td>NaN</td>\n",
       "      <td>pale_cyanotic</td>\n",
       "      <td>less_3_sec</td>\n",
       "      <td>...</td>\n",
       "      <td>50.0</td>\n",
       "      <td>85.0</td>\n",
       "      <td>cloudy</td>\n",
       "      <td>2.0</td>\n",
       "      <td>euthanized</td>\n",
       "      <td>no</td>\n",
       "      <td>2208</td>\n",
       "      <td>0</td>\n",
       "      <td>0</td>\n",
       "      <td>no</td>\n",
       "    </tr>\n",
       "    <tr>\n",
       "      <th>2</th>\n",
       "      <td>no</td>\n",
       "      <td>adult</td>\n",
       "      <td>530334</td>\n",
       "      <td>38.3</td>\n",
       "      <td>40.0</td>\n",
       "      <td>24.0</td>\n",
       "      <td>normal</td>\n",
       "      <td>normal</td>\n",
       "      <td>pale_pink</td>\n",
       "      <td>less_3_sec</td>\n",
       "      <td>...</td>\n",
       "      <td>33.0</td>\n",
       "      <td>6.7</td>\n",
       "      <td>NaN</td>\n",
       "      <td>NaN</td>\n",
       "      <td>lived</td>\n",
       "      <td>no</td>\n",
       "      <td>0</td>\n",
       "      <td>0</td>\n",
       "      <td>0</td>\n",
       "      <td>yes</td>\n",
       "    </tr>\n",
       "    <tr>\n",
       "      <th>3</th>\n",
       "      <td>yes</td>\n",
       "      <td>young</td>\n",
       "      <td>5290409</td>\n",
       "      <td>39.1</td>\n",
       "      <td>164.0</td>\n",
       "      <td>84.0</td>\n",
       "      <td>cold</td>\n",
       "      <td>normal</td>\n",
       "      <td>dark_cyanotic</td>\n",
       "      <td>more_3_sec</td>\n",
       "      <td>...</td>\n",
       "      <td>48.0</td>\n",
       "      <td>7.2</td>\n",
       "      <td>serosanguious</td>\n",
       "      <td>5.3</td>\n",
       "      <td>died</td>\n",
       "      <td>yes</td>\n",
       "      <td>2208</td>\n",
       "      <td>0</td>\n",
       "      <td>0</td>\n",
       "      <td>yes</td>\n",
       "    </tr>\n",
       "    <tr>\n",
       "      <th>4</th>\n",
       "      <td>no</td>\n",
       "      <td>adult</td>\n",
       "      <td>530255</td>\n",
       "      <td>37.3</td>\n",
       "      <td>104.0</td>\n",
       "      <td>35.0</td>\n",
       "      <td>NaN</td>\n",
       "      <td>NaN</td>\n",
       "      <td>dark_cyanotic</td>\n",
       "      <td>more_3_sec</td>\n",
       "      <td>...</td>\n",
       "      <td>74.0</td>\n",
       "      <td>7.4</td>\n",
       "      <td>NaN</td>\n",
       "      <td>NaN</td>\n",
       "      <td>died</td>\n",
       "      <td>no</td>\n",
       "      <td>4300</td>\n",
       "      <td>0</td>\n",
       "      <td>0</td>\n",
       "      <td>no</td>\n",
       "    </tr>\n",
       "  </tbody>\n",
       "</table>\n",
       "<p>5 rows × 28 columns</p>\n",
       "</div>"
      ],
      "text/plain": [
       "  surgery    age  hospital_number  rectal_temp  pulse  respiratory_rate  \\\n",
       "0      no  adult           530101         38.5   66.0              28.0   \n",
       "1     yes  adult           534817         39.2   88.0              20.0   \n",
       "2      no  adult           530334         38.3   40.0              24.0   \n",
       "3     yes  young          5290409         39.1  164.0              84.0   \n",
       "4      no  adult           530255         37.3  104.0              35.0   \n",
       "\n",
       "  temp_of_extremities peripheral_pulse mucous_membrane capillary_refill_time  \\\n",
       "0                cool          reduced             NaN            more_3_sec   \n",
       "1                 NaN              NaN   pale_cyanotic            less_3_sec   \n",
       "2              normal           normal       pale_pink            less_3_sec   \n",
       "3                cold           normal   dark_cyanotic            more_3_sec   \n",
       "4                 NaN              NaN   dark_cyanotic            more_3_sec   \n",
       "\n",
       "   ... packed_cell_volume total_protein abdomo_appearance abdomo_protein  \\\n",
       "0  ...               45.0           8.4               NaN            NaN   \n",
       "1  ...               50.0          85.0            cloudy            2.0   \n",
       "2  ...               33.0           6.7               NaN            NaN   \n",
       "3  ...               48.0           7.2     serosanguious            5.3   \n",
       "4  ...               74.0           7.4               NaN            NaN   \n",
       "\n",
       "      outcome  surgical_lesion lesion_1 lesion_2  lesion_3  cp_data  \n",
       "0        died               no    11300        0         0       no  \n",
       "1  euthanized               no     2208        0         0       no  \n",
       "2       lived               no        0        0         0      yes  \n",
       "3        died              yes     2208        0         0      yes  \n",
       "4        died               no     4300        0         0       no  \n",
       "\n",
       "[5 rows x 28 columns]"
      ]
     },
     "execution_count": 5,
     "metadata": {},
     "output_type": "execute_result"
    }
   ],
   "source": [
    "df.head()"
   ]
  },
  {
   "cell_type": "code",
   "execution_count": 6,
   "metadata": {
    "colab": {
     "base_uri": "https://localhost:8080/",
     "height": 239
    },
    "executionInfo": {
     "elapsed": 11,
     "status": "ok",
     "timestamp": 1661077237154,
     "user": {
      "displayName": "Subhodeep Mondal",
      "userId": "08622380239934956127"
     },
     "user_tz": -330
    },
    "id": "lzBDCiQFtGYZ",
    "outputId": "6c6bc8c4-ee9e-4652-ff2e-3ded4d6f17c2"
   },
   "outputs": [
    {
     "data": {
      "text/html": [
       "<div>\n",
       "<style scoped>\n",
       "    .dataframe tbody tr th:only-of-type {\n",
       "        vertical-align: middle;\n",
       "    }\n",
       "\n",
       "    .dataframe tbody tr th {\n",
       "        vertical-align: top;\n",
       "    }\n",
       "\n",
       "    .dataframe thead th {\n",
       "        text-align: right;\n",
       "    }\n",
       "</style>\n",
       "<table border=\"1\" class=\"dataframe\">\n",
       "  <thead>\n",
       "    <tr style=\"text-align: right;\">\n",
       "      <th></th>\n",
       "      <th>surgery</th>\n",
       "      <th>age</th>\n",
       "      <th>temp_of_extremities</th>\n",
       "      <th>peripheral_pulse</th>\n",
       "      <th>mucous_membrane</th>\n",
       "      <th>capillary_refill_time</th>\n",
       "      <th>pain</th>\n",
       "      <th>peristalsis</th>\n",
       "      <th>abdominal_distention</th>\n",
       "      <th>nasogastric_tube</th>\n",
       "      <th>nasogastric_reflux</th>\n",
       "      <th>rectal_exam_feces</th>\n",
       "      <th>abdomen</th>\n",
       "      <th>abdomo_appearance</th>\n",
       "      <th>outcome</th>\n",
       "      <th>surgical_lesion</th>\n",
       "      <th>cp_data</th>\n",
       "    </tr>\n",
       "  </thead>\n",
       "  <tbody>\n",
       "    <tr>\n",
       "      <th>count</th>\n",
       "      <td>299</td>\n",
       "      <td>299</td>\n",
       "      <td>243</td>\n",
       "      <td>230</td>\n",
       "      <td>252</td>\n",
       "      <td>267</td>\n",
       "      <td>244</td>\n",
       "      <td>255</td>\n",
       "      <td>243</td>\n",
       "      <td>195</td>\n",
       "      <td>193</td>\n",
       "      <td>197</td>\n",
       "      <td>181</td>\n",
       "      <td>134</td>\n",
       "      <td>299</td>\n",
       "      <td>299</td>\n",
       "      <td>299</td>\n",
       "    </tr>\n",
       "    <tr>\n",
       "      <th>unique</th>\n",
       "      <td>2</td>\n",
       "      <td>2</td>\n",
       "      <td>4</td>\n",
       "      <td>4</td>\n",
       "      <td>6</td>\n",
       "      <td>3</td>\n",
       "      <td>5</td>\n",
       "      <td>4</td>\n",
       "      <td>4</td>\n",
       "      <td>3</td>\n",
       "      <td>3</td>\n",
       "      <td>4</td>\n",
       "      <td>5</td>\n",
       "      <td>3</td>\n",
       "      <td>3</td>\n",
       "      <td>2</td>\n",
       "      <td>2</td>\n",
       "    </tr>\n",
       "    <tr>\n",
       "      <th>top</th>\n",
       "      <td>yes</td>\n",
       "      <td>adult</td>\n",
       "      <td>cool</td>\n",
       "      <td>normal</td>\n",
       "      <td>normal_pink</td>\n",
       "      <td>less_3_sec</td>\n",
       "      <td>mild_pain</td>\n",
       "      <td>hypomotile</td>\n",
       "      <td>none</td>\n",
       "      <td>slight</td>\n",
       "      <td>none</td>\n",
       "      <td>absent</td>\n",
       "      <td>distend_large</td>\n",
       "      <td>cloudy</td>\n",
       "      <td>lived</td>\n",
       "      <td>yes</td>\n",
       "      <td>no</td>\n",
       "    </tr>\n",
       "    <tr>\n",
       "      <th>freq</th>\n",
       "      <td>180</td>\n",
       "      <td>275</td>\n",
       "      <td>108</td>\n",
       "      <td>114</td>\n",
       "      <td>79</td>\n",
       "      <td>187</td>\n",
       "      <td>67</td>\n",
       "      <td>127</td>\n",
       "      <td>75</td>\n",
       "      <td>101</td>\n",
       "      <td>119</td>\n",
       "      <td>79</td>\n",
       "      <td>78</td>\n",
       "      <td>47</td>\n",
       "      <td>178</td>\n",
       "      <td>190</td>\n",
       "      <td>200</td>\n",
       "    </tr>\n",
       "  </tbody>\n",
       "</table>\n",
       "</div>"
      ],
      "text/plain": [
       "       surgery    age temp_of_extremities peripheral_pulse mucous_membrane  \\\n",
       "count      299    299                 243              230             252   \n",
       "unique       2      2                   4                4               6   \n",
       "top        yes  adult                cool           normal     normal_pink   \n",
       "freq       180    275                 108              114              79   \n",
       "\n",
       "       capillary_refill_time       pain peristalsis abdominal_distention  \\\n",
       "count                    267        244         255                  243   \n",
       "unique                     3          5           4                    4   \n",
       "top               less_3_sec  mild_pain  hypomotile                 none   \n",
       "freq                     187         67         127                   75   \n",
       "\n",
       "       nasogastric_tube nasogastric_reflux rectal_exam_feces        abdomen  \\\n",
       "count               195                193               197            181   \n",
       "unique                3                  3                 4              5   \n",
       "top              slight               none            absent  distend_large   \n",
       "freq                101                119                79             78   \n",
       "\n",
       "       abdomo_appearance outcome surgical_lesion cp_data  \n",
       "count                134     299             299     299  \n",
       "unique                 3       3               2       2  \n",
       "top               cloudy   lived             yes      no  \n",
       "freq                  47     178             190     200  "
      ]
     },
     "execution_count": 6,
     "metadata": {},
     "output_type": "execute_result"
    }
   ],
   "source": [
    "df.describe(include='O')"
   ]
  },
  {
   "cell_type": "code",
   "execution_count": 7,
   "metadata": {
    "colab": {
     "base_uri": "https://localhost:8080/",
     "height": 300
    },
    "executionInfo": {
     "elapsed": 1538,
     "status": "ok",
     "timestamp": 1661077238682,
     "user": {
      "displayName": "Subhodeep Mondal",
      "userId": "08622380239934956127"
     },
     "user_tz": -330
    },
    "id": "2Zy6J42Qten8",
    "outputId": "029063a1-aef9-4e65-dbbf-77e06df54e96"
   },
   "outputs": [
    {
     "data": {
      "text/html": [
       "<div>\n",
       "<style scoped>\n",
       "    .dataframe tbody tr th:only-of-type {\n",
       "        vertical-align: middle;\n",
       "    }\n",
       "\n",
       "    .dataframe tbody tr th {\n",
       "        vertical-align: top;\n",
       "    }\n",
       "\n",
       "    .dataframe thead th {\n",
       "        text-align: right;\n",
       "    }\n",
       "</style>\n",
       "<table border=\"1\" class=\"dataframe\">\n",
       "  <thead>\n",
       "    <tr style=\"text-align: right;\">\n",
       "      <th></th>\n",
       "      <th>hospital_number</th>\n",
       "      <th>rectal_temp</th>\n",
       "      <th>pulse</th>\n",
       "      <th>respiratory_rate</th>\n",
       "      <th>nasogastric_reflux_ph</th>\n",
       "      <th>packed_cell_volume</th>\n",
       "      <th>total_protein</th>\n",
       "      <th>abdomo_protein</th>\n",
       "      <th>lesion_1</th>\n",
       "      <th>lesion_2</th>\n",
       "      <th>lesion_3</th>\n",
       "    </tr>\n",
       "  </thead>\n",
       "  <tbody>\n",
       "    <tr>\n",
       "      <th>count</th>\n",
       "      <td>2.990000e+02</td>\n",
       "      <td>239.000000</td>\n",
       "      <td>275.000000</td>\n",
       "      <td>241.000000</td>\n",
       "      <td>53.000000</td>\n",
       "      <td>270.000000</td>\n",
       "      <td>266.000000</td>\n",
       "      <td>101.000000</td>\n",
       "      <td>299.000000</td>\n",
       "      <td>299.000000</td>\n",
       "      <td>299.000000</td>\n",
       "    </tr>\n",
       "    <tr>\n",
       "      <th>mean</th>\n",
       "      <td>1.087733e+06</td>\n",
       "      <td>38.168619</td>\n",
       "      <td>72.000000</td>\n",
       "      <td>30.460581</td>\n",
       "      <td>4.707547</td>\n",
       "      <td>46.307407</td>\n",
       "      <td>24.274436</td>\n",
       "      <td>3.039604</td>\n",
       "      <td>3659.709030</td>\n",
       "      <td>90.528428</td>\n",
       "      <td>7.387960</td>\n",
       "    </tr>\n",
       "    <tr>\n",
       "      <th>std</th>\n",
       "      <td>1.532032e+06</td>\n",
       "      <td>0.733744</td>\n",
       "      <td>28.646219</td>\n",
       "      <td>17.666102</td>\n",
       "      <td>1.982311</td>\n",
       "      <td>10.436743</td>\n",
       "      <td>27.364194</td>\n",
       "      <td>1.967947</td>\n",
       "      <td>5408.472421</td>\n",
       "      <td>650.637139</td>\n",
       "      <td>127.749768</td>\n",
       "    </tr>\n",
       "    <tr>\n",
       "      <th>min</th>\n",
       "      <td>5.184760e+05</td>\n",
       "      <td>35.400000</td>\n",
       "      <td>30.000000</td>\n",
       "      <td>8.000000</td>\n",
       "      <td>1.000000</td>\n",
       "      <td>23.000000</td>\n",
       "      <td>3.300000</td>\n",
       "      <td>0.100000</td>\n",
       "      <td>0.000000</td>\n",
       "      <td>0.000000</td>\n",
       "      <td>0.000000</td>\n",
       "    </tr>\n",
       "    <tr>\n",
       "      <th>25%</th>\n",
       "      <td>5.289040e+05</td>\n",
       "      <td>37.800000</td>\n",
       "      <td>48.000000</td>\n",
       "      <td>18.000000</td>\n",
       "      <td>3.000000</td>\n",
       "      <td>38.000000</td>\n",
       "      <td>6.500000</td>\n",
       "      <td>2.000000</td>\n",
       "      <td>2111.500000</td>\n",
       "      <td>0.000000</td>\n",
       "      <td>0.000000</td>\n",
       "    </tr>\n",
       "    <tr>\n",
       "      <th>50%</th>\n",
       "      <td>5.303010e+05</td>\n",
       "      <td>38.200000</td>\n",
       "      <td>64.000000</td>\n",
       "      <td>25.000000</td>\n",
       "      <td>5.000000</td>\n",
       "      <td>45.000000</td>\n",
       "      <td>7.500000</td>\n",
       "      <td>2.300000</td>\n",
       "      <td>2322.000000</td>\n",
       "      <td>0.000000</td>\n",
       "      <td>0.000000</td>\n",
       "    </tr>\n",
       "    <tr>\n",
       "      <th>75%</th>\n",
       "      <td>5.347360e+05</td>\n",
       "      <td>38.500000</td>\n",
       "      <td>88.000000</td>\n",
       "      <td>36.000000</td>\n",
       "      <td>6.500000</td>\n",
       "      <td>52.000000</td>\n",
       "      <td>56.750000</td>\n",
       "      <td>3.900000</td>\n",
       "      <td>3209.000000</td>\n",
       "      <td>0.000000</td>\n",
       "      <td>0.000000</td>\n",
       "    </tr>\n",
       "    <tr>\n",
       "      <th>max</th>\n",
       "      <td>5.305629e+06</td>\n",
       "      <td>40.800000</td>\n",
       "      <td>184.000000</td>\n",
       "      <td>96.000000</td>\n",
       "      <td>7.500000</td>\n",
       "      <td>75.000000</td>\n",
       "      <td>89.000000</td>\n",
       "      <td>10.100000</td>\n",
       "      <td>41110.000000</td>\n",
       "      <td>7111.000000</td>\n",
       "      <td>2209.000000</td>\n",
       "    </tr>\n",
       "  </tbody>\n",
       "</table>\n",
       "</div>"
      ],
      "text/plain": [
       "       hospital_number  rectal_temp       pulse  respiratory_rate  \\\n",
       "count     2.990000e+02   239.000000  275.000000        241.000000   \n",
       "mean      1.087733e+06    38.168619   72.000000         30.460581   \n",
       "std       1.532032e+06     0.733744   28.646219         17.666102   \n",
       "min       5.184760e+05    35.400000   30.000000          8.000000   \n",
       "25%       5.289040e+05    37.800000   48.000000         18.000000   \n",
       "50%       5.303010e+05    38.200000   64.000000         25.000000   \n",
       "75%       5.347360e+05    38.500000   88.000000         36.000000   \n",
       "max       5.305629e+06    40.800000  184.000000         96.000000   \n",
       "\n",
       "       nasogastric_reflux_ph  packed_cell_volume  total_protein  \\\n",
       "count              53.000000          270.000000     266.000000   \n",
       "mean                4.707547           46.307407      24.274436   \n",
       "std                 1.982311           10.436743      27.364194   \n",
       "min                 1.000000           23.000000       3.300000   \n",
       "25%                 3.000000           38.000000       6.500000   \n",
       "50%                 5.000000           45.000000       7.500000   \n",
       "75%                 6.500000           52.000000      56.750000   \n",
       "max                 7.500000           75.000000      89.000000   \n",
       "\n",
       "       abdomo_protein      lesion_1     lesion_2     lesion_3  \n",
       "count      101.000000    299.000000   299.000000   299.000000  \n",
       "mean         3.039604   3659.709030    90.528428     7.387960  \n",
       "std          1.967947   5408.472421   650.637139   127.749768  \n",
       "min          0.100000      0.000000     0.000000     0.000000  \n",
       "25%          2.000000   2111.500000     0.000000     0.000000  \n",
       "50%          2.300000   2322.000000     0.000000     0.000000  \n",
       "75%          3.900000   3209.000000     0.000000     0.000000  \n",
       "max         10.100000  41110.000000  7111.000000  2209.000000  "
      ]
     },
     "execution_count": 7,
     "metadata": {},
     "output_type": "execute_result"
    }
   ],
   "source": [
    "df.describe()"
   ]
  },
  {
   "cell_type": "code",
   "execution_count": 8,
   "metadata": {
    "colab": {
     "base_uri": "https://localhost:8080/"
    },
    "executionInfo": {
     "elapsed": 64,
     "status": "ok",
     "timestamp": 1661077238682,
     "user": {
      "displayName": "Subhodeep Mondal",
      "userId": "08622380239934956127"
     },
     "user_tz": -330
    },
    "id": "_ZeHeLvQtQhS",
    "outputId": "15914774-4305-4882-bf27-d623f77bf1c9"
   },
   "outputs": [
    {
     "data": {
      "text/plain": [
       "surgery                    0\n",
       "age                        0\n",
       "hospital_number            0\n",
       "rectal_temp               60\n",
       "pulse                     24\n",
       "respiratory_rate          58\n",
       "temp_of_extremities       56\n",
       "peripheral_pulse          69\n",
       "mucous_membrane           47\n",
       "capillary_refill_time     32\n",
       "pain                      55\n",
       "peristalsis               44\n",
       "abdominal_distention      56\n",
       "nasogastric_tube         104\n",
       "nasogastric_reflux       106\n",
       "nasogastric_reflux_ph    246\n",
       "rectal_exam_feces        102\n",
       "abdomen                  118\n",
       "packed_cell_volume        29\n",
       "total_protein             33\n",
       "abdomo_appearance        165\n",
       "abdomo_protein           198\n",
       "outcome                    0\n",
       "surgical_lesion            0\n",
       "lesion_1                   0\n",
       "lesion_2                   0\n",
       "lesion_3                   0\n",
       "cp_data                    0\n",
       "dtype: int64"
      ]
     },
     "execution_count": 8,
     "metadata": {},
     "output_type": "execute_result"
    }
   ],
   "source": [
    "df.isnull().sum()"
   ]
  },
  {
   "cell_type": "code",
   "execution_count": 9,
   "metadata": {
    "executionInfo": {
     "elapsed": 58,
     "status": "ok",
     "timestamp": 1661077238683,
     "user": {
      "displayName": "Subhodeep Mondal",
      "userId": "08622380239934956127"
     },
     "user_tz": -330
    },
    "id": "e5iPpYcfuwt4"
   },
   "outputs": [],
   "source": [
    "df.drop(columns=df.columns[df.isnull().sum()>100],inplace=True,axis=1)"
   ]
  },
  {
   "cell_type": "code",
   "execution_count": 10,
   "metadata": {
    "colab": {
     "base_uri": "https://localhost:8080/"
    },
    "executionInfo": {
     "elapsed": 58,
     "status": "ok",
     "timestamp": 1661077238684,
     "user": {
      "displayName": "Subhodeep Mondal",
      "userId": "08622380239934956127"
     },
     "user_tz": -330
    },
    "id": "eMKG5A4yvJOV",
    "outputId": "a32348cc-d92e-4d45-b7fa-19e88279ca11"
   },
   "outputs": [
    {
     "data": {
      "text/plain": [
       "surgery                   0\n",
       "age                       0\n",
       "hospital_number           0\n",
       "rectal_temp              60\n",
       "pulse                    24\n",
       "respiratory_rate         58\n",
       "temp_of_extremities      56\n",
       "peripheral_pulse         69\n",
       "mucous_membrane          47\n",
       "capillary_refill_time    32\n",
       "pain                     55\n",
       "peristalsis              44\n",
       "abdominal_distention     56\n",
       "packed_cell_volume       29\n",
       "total_protein            33\n",
       "outcome                   0\n",
       "surgical_lesion           0\n",
       "lesion_1                  0\n",
       "lesion_2                  0\n",
       "lesion_3                  0\n",
       "cp_data                   0\n",
       "dtype: int64"
      ]
     },
     "execution_count": 10,
     "metadata": {},
     "output_type": "execute_result"
    }
   ],
   "source": [
    "df.isnull().sum()"
   ]
  },
  {
   "cell_type": "code",
   "execution_count": 11,
   "metadata": {
    "colab": {
     "base_uri": "https://localhost:8080/"
    },
    "executionInfo": {
     "elapsed": 52,
     "status": "ok",
     "timestamp": 1661077238684,
     "user": {
      "displayName": "Subhodeep Mondal",
      "userId": "08622380239934956127"
     },
     "user_tz": -330
    },
    "id": "fLHhx6JztZrR",
    "outputId": "b2255a8a-ad0f-4e78-fe40-19239a22f5e6"
   },
   "outputs": [
    {
     "data": {
      "text/plain": [
       "surgery                   object\n",
       "age                       object\n",
       "hospital_number            int64\n",
       "rectal_temp              float64\n",
       "pulse                    float64\n",
       "respiratory_rate         float64\n",
       "temp_of_extremities       object\n",
       "peripheral_pulse          object\n",
       "mucous_membrane           object\n",
       "capillary_refill_time     object\n",
       "pain                      object\n",
       "peristalsis               object\n",
       "abdominal_distention      object\n",
       "packed_cell_volume       float64\n",
       "total_protein            float64\n",
       "outcome                   object\n",
       "surgical_lesion           object\n",
       "lesion_1                   int64\n",
       "lesion_2                   int64\n",
       "lesion_3                   int64\n",
       "cp_data                   object\n",
       "dtype: object"
      ]
     },
     "execution_count": 11,
     "metadata": {},
     "output_type": "execute_result"
    }
   ],
   "source": [
    "df.dtypes"
   ]
  },
  {
   "cell_type": "code",
   "execution_count": 12,
   "metadata": {
    "executionInfo": {
     "elapsed": 48,
     "status": "ok",
     "timestamp": 1661077238685,
     "user": {
      "displayName": "Subhodeep Mondal",
      "userId": "08622380239934956127"
     },
     "user_tz": -330
    },
    "id": "a5Twkf2MuB_5"
   },
   "outputs": [],
   "source": [
    "for column in df.select_dtypes('object'):\n",
    "  df[column].fillna(df[column].mode(),inplace=True)"
   ]
  },
  {
   "cell_type": "code",
   "execution_count": 13,
   "metadata": {
    "colab": {
     "base_uri": "https://localhost:8080/"
    },
    "executionInfo": {
     "elapsed": 47,
     "status": "ok",
     "timestamp": 1661077238685,
     "user": {
      "displayName": "Subhodeep Mondal",
      "userId": "08622380239934956127"
     },
     "user_tz": -330
    },
    "id": "bBy4URISuOVA",
    "outputId": "fc7fabc4-4278-41f9-f932-ea136a32a912"
   },
   "outputs": [
    {
     "data": {
      "text/plain": [
       "surgery                   object\n",
       "age                       object\n",
       "hospital_number            int64\n",
       "rectal_temp              float64\n",
       "pulse                    float64\n",
       "respiratory_rate         float64\n",
       "temp_of_extremities       object\n",
       "peripheral_pulse          object\n",
       "mucous_membrane           object\n",
       "capillary_refill_time     object\n",
       "pain                      object\n",
       "peristalsis               object\n",
       "abdominal_distention      object\n",
       "packed_cell_volume       float64\n",
       "total_protein            float64\n",
       "outcome                   object\n",
       "surgical_lesion           object\n",
       "lesion_1                   int64\n",
       "lesion_2                   int64\n",
       "lesion_3                   int64\n",
       "cp_data                   object\n",
       "dtype: object"
      ]
     },
     "execution_count": 13,
     "metadata": {},
     "output_type": "execute_result"
    }
   ],
   "source": [
    "df.dtypes"
   ]
  },
  {
   "cell_type": "code",
   "execution_count": 14,
   "metadata": {
    "colab": {
     "base_uri": "https://localhost:8080/"
    },
    "executionInfo": {
     "elapsed": 42,
     "status": "ok",
     "timestamp": 1661077238685,
     "user": {
      "displayName": "Subhodeep Mondal",
      "userId": "08622380239934956127"
     },
     "user_tz": -330
    },
    "id": "SHpS4v1VugvZ",
    "outputId": "63d567c3-74de-46c0-d846-28b95751d0d5"
   },
   "outputs": [
    {
     "data": {
      "text/plain": [
       "surgery                   0\n",
       "age                       0\n",
       "hospital_number           0\n",
       "rectal_temp              60\n",
       "pulse                    24\n",
       "respiratory_rate         58\n",
       "temp_of_extremities      56\n",
       "peripheral_pulse         69\n",
       "mucous_membrane          46\n",
       "capillary_refill_time    32\n",
       "pain                     55\n",
       "peristalsis              44\n",
       "abdominal_distention     56\n",
       "packed_cell_volume       29\n",
       "total_protein            33\n",
       "outcome                   0\n",
       "surgical_lesion           0\n",
       "lesion_1                  0\n",
       "lesion_2                  0\n",
       "lesion_3                  0\n",
       "cp_data                   0\n",
       "dtype: int64"
      ]
     },
     "execution_count": 14,
     "metadata": {},
     "output_type": "execute_result"
    }
   ],
   "source": [
    "df.isnull().sum()"
   ]
  },
  {
   "cell_type": "code",
   "execution_count": 15,
   "metadata": {
    "executionInfo": {
     "elapsed": 37,
     "status": "ok",
     "timestamp": 1661077238686,
     "user": {
      "displayName": "Subhodeep Mondal",
      "userId": "08622380239934956127"
     },
     "user_tz": -330
    },
    "id": "RKcaIPqAvYoP"
   },
   "outputs": [],
   "source": [
    "for column in df.select_dtypes('float64'):\n",
    "  df[column].fillna(df[column].mean(),inplace=True)"
   ]
  },
  {
   "cell_type": "code",
   "execution_count": 16,
   "metadata": {
    "colab": {
     "base_uri": "https://localhost:8080/"
    },
    "executionInfo": {
     "elapsed": 36,
     "status": "ok",
     "timestamp": 1661077238686,
     "user": {
      "displayName": "Subhodeep Mondal",
      "userId": "08622380239934956127"
     },
     "user_tz": -330
    },
    "id": "MuOdLdKJy_sY",
    "outputId": "45402807-b320-42d2-be28-ad1dfe74247c"
   },
   "outputs": [
    {
     "data": {
      "text/plain": [
       "surgery                   object\n",
       "age                       object\n",
       "hospital_number            int64\n",
       "rectal_temp              float64\n",
       "pulse                    float64\n",
       "respiratory_rate         float64\n",
       "temp_of_extremities       object\n",
       "peripheral_pulse          object\n",
       "mucous_membrane           object\n",
       "capillary_refill_time     object\n",
       "pain                      object\n",
       "peristalsis               object\n",
       "abdominal_distention      object\n",
       "packed_cell_volume       float64\n",
       "total_protein            float64\n",
       "outcome                   object\n",
       "surgical_lesion           object\n",
       "lesion_1                   int64\n",
       "lesion_2                   int64\n",
       "lesion_3                   int64\n",
       "cp_data                   object\n",
       "dtype: object"
      ]
     },
     "execution_count": 16,
     "metadata": {},
     "output_type": "execute_result"
    }
   ],
   "source": [
    "df.dtypes"
   ]
  },
  {
   "cell_type": "code",
   "execution_count": 17,
   "metadata": {
    "colab": {
     "base_uri": "https://localhost:8080/"
    },
    "executionInfo": {
     "elapsed": 33,
     "status": "ok",
     "timestamp": 1661077238686,
     "user": {
      "displayName": "Subhodeep Mondal",
      "userId": "08622380239934956127"
     },
     "user_tz": -330
    },
    "id": "5gqwfJlOvks4",
    "outputId": "e8a4488c-0cc0-4f23-8b5d-b1f43026ce68"
   },
   "outputs": [
    {
     "data": {
      "text/plain": [
       "surgery                   0\n",
       "age                       0\n",
       "hospital_number           0\n",
       "rectal_temp               0\n",
       "pulse                     0\n",
       "respiratory_rate          0\n",
       "temp_of_extremities      56\n",
       "peripheral_pulse         69\n",
       "mucous_membrane          46\n",
       "capillary_refill_time    32\n",
       "pain                     55\n",
       "peristalsis              44\n",
       "abdominal_distention     56\n",
       "packed_cell_volume        0\n",
       "total_protein             0\n",
       "outcome                   0\n",
       "surgical_lesion           0\n",
       "lesion_1                  0\n",
       "lesion_2                  0\n",
       "lesion_3                  0\n",
       "cp_data                   0\n",
       "dtype: int64"
      ]
     },
     "execution_count": 17,
     "metadata": {},
     "output_type": "execute_result"
    }
   ],
   "source": [
    "df.isnull().sum()"
   ]
  },
  {
   "cell_type": "code",
   "execution_count": 18,
   "metadata": {
    "colab": {
     "base_uri": "https://localhost:8080/"
    },
    "executionInfo": {
     "elapsed": 32,
     "status": "ok",
     "timestamp": 1661077238687,
     "user": {
      "displayName": "Subhodeep Mondal",
      "userId": "08622380239934956127"
     },
     "user_tz": -330
    },
    "id": "w9geKzpkvotP",
    "outputId": "9687fe71-451b-4cfd-c01a-357ca1116719"
   },
   "outputs": [
    {
     "data": {
      "text/plain": [
       "(299, 21)"
      ]
     },
     "execution_count": 18,
     "metadata": {},
     "output_type": "execute_result"
    }
   ],
   "source": [
    "df.shape"
   ]
  },
  {
   "cell_type": "code",
   "execution_count": 19,
   "metadata": {
    "executionInfo": {
     "elapsed": 29,
     "status": "ok",
     "timestamp": 1661077238687,
     "user": {
      "displayName": "Subhodeep Mondal",
      "userId": "08622380239934956127"
     },
     "user_tz": -330
    },
    "id": "_SxZAHMRvq6n"
   },
   "outputs": [],
   "source": [
    "df.drop(columns=['hospital_number'],axis=1,inplace = True)"
   ]
  },
  {
   "cell_type": "code",
   "execution_count": 20,
   "metadata": {
    "colab": {
     "base_uri": "https://localhost:8080/"
    },
    "executionInfo": {
     "elapsed": 30,
     "status": "ok",
     "timestamp": 1661077238688,
     "user": {
      "displayName": "Subhodeep Mondal",
      "userId": "08622380239934956127"
     },
     "user_tz": -330
    },
    "id": "W-FfxH2NxX2H",
    "outputId": "15e542d3-46dc-4b9b-fd03-3345eeb7c89f"
   },
   "outputs": [
    {
     "data": {
      "text/plain": [
       "surgery                   object\n",
       "age                       object\n",
       "rectal_temp              float64\n",
       "pulse                    float64\n",
       "respiratory_rate         float64\n",
       "temp_of_extremities       object\n",
       "peripheral_pulse          object\n",
       "mucous_membrane           object\n",
       "capillary_refill_time     object\n",
       "pain                      object\n",
       "peristalsis               object\n",
       "abdominal_distention      object\n",
       "packed_cell_volume       float64\n",
       "total_protein            float64\n",
       "outcome                   object\n",
       "surgical_lesion           object\n",
       "lesion_1                   int64\n",
       "lesion_2                   int64\n",
       "lesion_3                   int64\n",
       "cp_data                   object\n",
       "dtype: object"
      ]
     },
     "execution_count": 20,
     "metadata": {},
     "output_type": "execute_result"
    }
   ],
   "source": [
    "df.dtypes"
   ]
  },
  {
   "cell_type": "code",
   "execution_count": 21,
   "metadata": {
    "colab": {
     "base_uri": "https://localhost:8080/",
     "height": 175
    },
    "executionInfo": {
     "elapsed": 28,
     "status": "ok",
     "timestamp": 1661077238688,
     "user": {
      "displayName": "Subhodeep Mondal",
      "userId": "08622380239934956127"
     },
     "user_tz": -330
    },
    "id": "ConmzQlQytqG",
    "outputId": "76cf62ba-74eb-4de3-a131-690c93ee596b"
   },
   "outputs": [
    {
     "data": {
      "text/html": [
       "<div>\n",
       "<style scoped>\n",
       "    .dataframe tbody tr th:only-of-type {\n",
       "        vertical-align: middle;\n",
       "    }\n",
       "\n",
       "    .dataframe tbody tr th {\n",
       "        vertical-align: top;\n",
       "    }\n",
       "\n",
       "    .dataframe thead th {\n",
       "        text-align: right;\n",
       "    }\n",
       "</style>\n",
       "<table border=\"1\" class=\"dataframe\">\n",
       "  <thead>\n",
       "    <tr style=\"text-align: right;\">\n",
       "      <th></th>\n",
       "      <th>surgery</th>\n",
       "      <th>age</th>\n",
       "      <th>temp_of_extremities</th>\n",
       "      <th>peripheral_pulse</th>\n",
       "      <th>mucous_membrane</th>\n",
       "      <th>capillary_refill_time</th>\n",
       "      <th>pain</th>\n",
       "      <th>peristalsis</th>\n",
       "      <th>abdominal_distention</th>\n",
       "      <th>outcome</th>\n",
       "      <th>surgical_lesion</th>\n",
       "      <th>cp_data</th>\n",
       "    </tr>\n",
       "  </thead>\n",
       "  <tbody>\n",
       "    <tr>\n",
       "      <th>count</th>\n",
       "      <td>299</td>\n",
       "      <td>299</td>\n",
       "      <td>243</td>\n",
       "      <td>230</td>\n",
       "      <td>253</td>\n",
       "      <td>267</td>\n",
       "      <td>244</td>\n",
       "      <td>255</td>\n",
       "      <td>243</td>\n",
       "      <td>299</td>\n",
       "      <td>299</td>\n",
       "      <td>299</td>\n",
       "    </tr>\n",
       "    <tr>\n",
       "      <th>unique</th>\n",
       "      <td>2</td>\n",
       "      <td>2</td>\n",
       "      <td>4</td>\n",
       "      <td>4</td>\n",
       "      <td>6</td>\n",
       "      <td>3</td>\n",
       "      <td>5</td>\n",
       "      <td>4</td>\n",
       "      <td>4</td>\n",
       "      <td>3</td>\n",
       "      <td>2</td>\n",
       "      <td>2</td>\n",
       "    </tr>\n",
       "    <tr>\n",
       "      <th>top</th>\n",
       "      <td>yes</td>\n",
       "      <td>adult</td>\n",
       "      <td>cool</td>\n",
       "      <td>normal</td>\n",
       "      <td>normal_pink</td>\n",
       "      <td>less_3_sec</td>\n",
       "      <td>mild_pain</td>\n",
       "      <td>hypomotile</td>\n",
       "      <td>none</td>\n",
       "      <td>lived</td>\n",
       "      <td>yes</td>\n",
       "      <td>no</td>\n",
       "    </tr>\n",
       "    <tr>\n",
       "      <th>freq</th>\n",
       "      <td>180</td>\n",
       "      <td>275</td>\n",
       "      <td>108</td>\n",
       "      <td>114</td>\n",
       "      <td>80</td>\n",
       "      <td>187</td>\n",
       "      <td>67</td>\n",
       "      <td>127</td>\n",
       "      <td>75</td>\n",
       "      <td>178</td>\n",
       "      <td>190</td>\n",
       "      <td>200</td>\n",
       "    </tr>\n",
       "  </tbody>\n",
       "</table>\n",
       "</div>"
      ],
      "text/plain": [
       "       surgery    age temp_of_extremities peripheral_pulse mucous_membrane  \\\n",
       "count      299    299                 243              230             253   \n",
       "unique       2      2                   4                4               6   \n",
       "top        yes  adult                cool           normal     normal_pink   \n",
       "freq       180    275                 108              114              80   \n",
       "\n",
       "       capillary_refill_time       pain peristalsis abdominal_distention  \\\n",
       "count                    267        244         255                  243   \n",
       "unique                     3          5           4                    4   \n",
       "top               less_3_sec  mild_pain  hypomotile                 none   \n",
       "freq                     187         67         127                   75   \n",
       "\n",
       "       outcome surgical_lesion cp_data  \n",
       "count      299             299     299  \n",
       "unique       3               2       2  \n",
       "top      lived             yes      no  \n",
       "freq       178             190     200  "
      ]
     },
     "execution_count": 21,
     "metadata": {},
     "output_type": "execute_result"
    }
   ],
   "source": [
    "df.describe(include='O')"
   ]
  },
  {
   "cell_type": "code",
   "execution_count": 22,
   "metadata": {
    "executionInfo": {
     "elapsed": 8,
     "status": "ok",
     "timestamp": 1661077296612,
     "user": {
      "displayName": "Subhodeep Mondal",
      "userId": "08622380239934956127"
     },
     "user_tz": -330
    },
    "id": "FKEIigbt0q1L"
   },
   "outputs": [],
   "source": [
    "from sklearn.preprocessing import LabelEncoder\n",
    "\n",
    "le = LabelEncoder()\n",
    "for column in df.select_dtypes('object'):\n",
    "  df[column] = le.fit_transform(df[column])"
   ]
  },
  {
   "cell_type": "code",
   "execution_count": 23,
   "metadata": {
    "colab": {
     "base_uri": "https://localhost:8080/"
    },
    "executionInfo": {
     "elapsed": 804,
     "status": "ok",
     "timestamp": 1661077310933,
     "user": {
      "displayName": "Subhodeep Mondal",
      "userId": "08622380239934956127"
     },
     "user_tz": -330
    },
    "id": "gEOQ3RnP12Cr",
    "outputId": "69fefeae-96f1-4ff9-dd7b-5424956a727d"
   },
   "outputs": [
    {
     "data": {
      "text/plain": [
       "surgery                    int32\n",
       "age                        int32\n",
       "rectal_temp              float64\n",
       "pulse                    float64\n",
       "respiratory_rate         float64\n",
       "temp_of_extremities        int32\n",
       "peripheral_pulse           int32\n",
       "mucous_membrane            int32\n",
       "capillary_refill_time      int32\n",
       "pain                       int32\n",
       "peristalsis                int32\n",
       "abdominal_distention       int32\n",
       "packed_cell_volume       float64\n",
       "total_protein            float64\n",
       "outcome                    int32\n",
       "surgical_lesion            int32\n",
       "lesion_1                   int64\n",
       "lesion_2                   int64\n",
       "lesion_3                   int64\n",
       "cp_data                    int32\n",
       "dtype: object"
      ]
     },
     "execution_count": 23,
     "metadata": {},
     "output_type": "execute_result"
    }
   ],
   "source": [
    "df.dtypes"
   ]
  },
  {
   "cell_type": "code",
   "execution_count": 24,
   "metadata": {
    "colab": {
     "base_uri": "https://localhost:8080/",
     "height": 364
    },
    "executionInfo": {
     "elapsed": 586,
     "status": "ok",
     "timestamp": 1661077625019,
     "user": {
      "displayName": "Subhodeep Mondal",
      "userId": "08622380239934956127"
     },
     "user_tz": -330
    },
    "id": "VwjIDmrK5LSe",
    "outputId": "7e0ccea5-c9ec-4f6e-82ce-018497aed378"
   },
   "outputs": [
    {
     "data": {
      "text/html": [
       "<div>\n",
       "<style scoped>\n",
       "    .dataframe tbody tr th:only-of-type {\n",
       "        vertical-align: middle;\n",
       "    }\n",
       "\n",
       "    .dataframe tbody tr th {\n",
       "        vertical-align: top;\n",
       "    }\n",
       "\n",
       "    .dataframe thead th {\n",
       "        text-align: right;\n",
       "    }\n",
       "</style>\n",
       "<table border=\"1\" class=\"dataframe\">\n",
       "  <thead>\n",
       "    <tr style=\"text-align: right;\">\n",
       "      <th></th>\n",
       "      <th>surgery</th>\n",
       "      <th>age</th>\n",
       "      <th>rectal_temp</th>\n",
       "      <th>pulse</th>\n",
       "      <th>respiratory_rate</th>\n",
       "      <th>temp_of_extremities</th>\n",
       "      <th>peripheral_pulse</th>\n",
       "      <th>mucous_membrane</th>\n",
       "      <th>capillary_refill_time</th>\n",
       "      <th>pain</th>\n",
       "      <th>peristalsis</th>\n",
       "      <th>abdominal_distention</th>\n",
       "      <th>packed_cell_volume</th>\n",
       "      <th>total_protein</th>\n",
       "      <th>outcome</th>\n",
       "      <th>surgical_lesion</th>\n",
       "      <th>lesion_1</th>\n",
       "      <th>lesion_2</th>\n",
       "      <th>lesion_3</th>\n",
       "      <th>cp_data</th>\n",
       "    </tr>\n",
       "  </thead>\n",
       "  <tbody>\n",
       "    <tr>\n",
       "      <th>count</th>\n",
       "      <td>299.000000</td>\n",
       "      <td>299.000000</td>\n",
       "      <td>299.000000</td>\n",
       "      <td>299.000000</td>\n",
       "      <td>299.000000</td>\n",
       "      <td>299.00000</td>\n",
       "      <td>299.000000</td>\n",
       "      <td>299.000000</td>\n",
       "      <td>299.000000</td>\n",
       "      <td>299.000000</td>\n",
       "      <td>299.000000</td>\n",
       "      <td>299.000000</td>\n",
       "      <td>299.000000</td>\n",
       "      <td>299.000000</td>\n",
       "      <td>299.000000</td>\n",
       "      <td>299.000000</td>\n",
       "      <td>299.000000</td>\n",
       "      <td>299.000000</td>\n",
       "      <td>299.000000</td>\n",
       "      <td>299.000000</td>\n",
       "    </tr>\n",
       "    <tr>\n",
       "      <th>mean</th>\n",
       "      <td>0.602007</td>\n",
       "      <td>0.080268</td>\n",
       "      <td>38.168619</td>\n",
       "      <td>72.000000</td>\n",
       "      <td>30.460581</td>\n",
       "      <td>1.93311</td>\n",
       "      <td>2.735786</td>\n",
       "      <td>3.444816</td>\n",
       "      <td>1.468227</td>\n",
       "      <td>2.578595</td>\n",
       "      <td>1.729097</td>\n",
       "      <td>1.906355</td>\n",
       "      <td>46.307407</td>\n",
       "      <td>24.274436</td>\n",
       "      <td>1.337793</td>\n",
       "      <td>0.635452</td>\n",
       "      <td>3659.709030</td>\n",
       "      <td>90.528428</td>\n",
       "      <td>7.387960</td>\n",
       "      <td>0.331104</td>\n",
       "    </tr>\n",
       "    <tr>\n",
       "      <th>std</th>\n",
       "      <td>0.490305</td>\n",
       "      <td>0.272162</td>\n",
       "      <td>0.655730</td>\n",
       "      <td>27.468469</td>\n",
       "      <td>15.853977</td>\n",
       "      <td>1.25407</td>\n",
       "      <td>0.923458</td>\n",
       "      <td>1.844491</td>\n",
       "      <td>0.691386</td>\n",
       "      <td>1.663770</td>\n",
       "      <td>1.296688</td>\n",
       "      <td>1.444009</td>\n",
       "      <td>9.915919</td>\n",
       "      <td>25.804620</td>\n",
       "      <td>0.860940</td>\n",
       "      <td>0.482110</td>\n",
       "      <td>5408.472421</td>\n",
       "      <td>650.637139</td>\n",
       "      <td>127.749768</td>\n",
       "      <td>0.471399</td>\n",
       "    </tr>\n",
       "    <tr>\n",
       "      <th>min</th>\n",
       "      <td>0.000000</td>\n",
       "      <td>0.000000</td>\n",
       "      <td>35.400000</td>\n",
       "      <td>30.000000</td>\n",
       "      <td>8.000000</td>\n",
       "      <td>0.00000</td>\n",
       "      <td>0.000000</td>\n",
       "      <td>0.000000</td>\n",
       "      <td>0.000000</td>\n",
       "      <td>0.000000</td>\n",
       "      <td>0.000000</td>\n",
       "      <td>0.000000</td>\n",
       "      <td>23.000000</td>\n",
       "      <td>3.300000</td>\n",
       "      <td>0.000000</td>\n",
       "      <td>0.000000</td>\n",
       "      <td>0.000000</td>\n",
       "      <td>0.000000</td>\n",
       "      <td>0.000000</td>\n",
       "      <td>0.000000</td>\n",
       "    </tr>\n",
       "    <tr>\n",
       "      <th>25%</th>\n",
       "      <td>0.000000</td>\n",
       "      <td>0.000000</td>\n",
       "      <td>37.900000</td>\n",
       "      <td>48.500000</td>\n",
       "      <td>20.000000</td>\n",
       "      <td>1.00000</td>\n",
       "      <td>2.000000</td>\n",
       "      <td>2.500000</td>\n",
       "      <td>1.000000</td>\n",
       "      <td>1.000000</td>\n",
       "      <td>1.000000</td>\n",
       "      <td>1.000000</td>\n",
       "      <td>39.000000</td>\n",
       "      <td>6.600000</td>\n",
       "      <td>0.000000</td>\n",
       "      <td>0.000000</td>\n",
       "      <td>2111.500000</td>\n",
       "      <td>0.000000</td>\n",
       "      <td>0.000000</td>\n",
       "      <td>0.000000</td>\n",
       "    </tr>\n",
       "    <tr>\n",
       "      <th>50%</th>\n",
       "      <td>1.000000</td>\n",
       "      <td>0.000000</td>\n",
       "      <td>38.168619</td>\n",
       "      <td>68.000000</td>\n",
       "      <td>30.000000</td>\n",
       "      <td>2.00000</td>\n",
       "      <td>3.000000</td>\n",
       "      <td>3.000000</td>\n",
       "      <td>1.000000</td>\n",
       "      <td>3.000000</td>\n",
       "      <td>2.000000</td>\n",
       "      <td>2.000000</td>\n",
       "      <td>46.000000</td>\n",
       "      <td>7.700000</td>\n",
       "      <td>2.000000</td>\n",
       "      <td>1.000000</td>\n",
       "      <td>2322.000000</td>\n",
       "      <td>0.000000</td>\n",
       "      <td>0.000000</td>\n",
       "      <td>0.000000</td>\n",
       "    </tr>\n",
       "    <tr>\n",
       "      <th>75%</th>\n",
       "      <td>1.000000</td>\n",
       "      <td>0.000000</td>\n",
       "      <td>38.500000</td>\n",
       "      <td>88.000000</td>\n",
       "      <td>34.500000</td>\n",
       "      <td>3.00000</td>\n",
       "      <td>3.000000</td>\n",
       "      <td>5.000000</td>\n",
       "      <td>2.000000</td>\n",
       "      <td>4.000000</td>\n",
       "      <td>2.000000</td>\n",
       "      <td>3.000000</td>\n",
       "      <td>50.000000</td>\n",
       "      <td>52.000000</td>\n",
       "      <td>2.000000</td>\n",
       "      <td>1.000000</td>\n",
       "      <td>3209.000000</td>\n",
       "      <td>0.000000</td>\n",
       "      <td>0.000000</td>\n",
       "      <td>1.000000</td>\n",
       "    </tr>\n",
       "    <tr>\n",
       "      <th>max</th>\n",
       "      <td>1.000000</td>\n",
       "      <td>1.000000</td>\n",
       "      <td>40.800000</td>\n",
       "      <td>184.000000</td>\n",
       "      <td>96.000000</td>\n",
       "      <td>4.00000</td>\n",
       "      <td>4.000000</td>\n",
       "      <td>6.000000</td>\n",
       "      <td>3.000000</td>\n",
       "      <td>5.000000</td>\n",
       "      <td>4.000000</td>\n",
       "      <td>4.000000</td>\n",
       "      <td>75.000000</td>\n",
       "      <td>89.000000</td>\n",
       "      <td>2.000000</td>\n",
       "      <td>1.000000</td>\n",
       "      <td>41110.000000</td>\n",
       "      <td>7111.000000</td>\n",
       "      <td>2209.000000</td>\n",
       "      <td>1.000000</td>\n",
       "    </tr>\n",
       "  </tbody>\n",
       "</table>\n",
       "</div>"
      ],
      "text/plain": [
       "          surgery         age  rectal_temp       pulse  respiratory_rate  \\\n",
       "count  299.000000  299.000000   299.000000  299.000000        299.000000   \n",
       "mean     0.602007    0.080268    38.168619   72.000000         30.460581   \n",
       "std      0.490305    0.272162     0.655730   27.468469         15.853977   \n",
       "min      0.000000    0.000000    35.400000   30.000000          8.000000   \n",
       "25%      0.000000    0.000000    37.900000   48.500000         20.000000   \n",
       "50%      1.000000    0.000000    38.168619   68.000000         30.000000   \n",
       "75%      1.000000    0.000000    38.500000   88.000000         34.500000   \n",
       "max      1.000000    1.000000    40.800000  184.000000         96.000000   \n",
       "\n",
       "       temp_of_extremities  peripheral_pulse  mucous_membrane  \\\n",
       "count            299.00000        299.000000       299.000000   \n",
       "mean               1.93311          2.735786         3.444816   \n",
       "std                1.25407          0.923458         1.844491   \n",
       "min                0.00000          0.000000         0.000000   \n",
       "25%                1.00000          2.000000         2.500000   \n",
       "50%                2.00000          3.000000         3.000000   \n",
       "75%                3.00000          3.000000         5.000000   \n",
       "max                4.00000          4.000000         6.000000   \n",
       "\n",
       "       capillary_refill_time        pain  peristalsis  abdominal_distention  \\\n",
       "count             299.000000  299.000000   299.000000            299.000000   \n",
       "mean                1.468227    2.578595     1.729097              1.906355   \n",
       "std                 0.691386    1.663770     1.296688              1.444009   \n",
       "min                 0.000000    0.000000     0.000000              0.000000   \n",
       "25%                 1.000000    1.000000     1.000000              1.000000   \n",
       "50%                 1.000000    3.000000     2.000000              2.000000   \n",
       "75%                 2.000000    4.000000     2.000000              3.000000   \n",
       "max                 3.000000    5.000000     4.000000              4.000000   \n",
       "\n",
       "       packed_cell_volume  total_protein     outcome  surgical_lesion  \\\n",
       "count          299.000000     299.000000  299.000000       299.000000   \n",
       "mean            46.307407      24.274436    1.337793         0.635452   \n",
       "std              9.915919      25.804620    0.860940         0.482110   \n",
       "min             23.000000       3.300000    0.000000         0.000000   \n",
       "25%             39.000000       6.600000    0.000000         0.000000   \n",
       "50%             46.000000       7.700000    2.000000         1.000000   \n",
       "75%             50.000000      52.000000    2.000000         1.000000   \n",
       "max             75.000000      89.000000    2.000000         1.000000   \n",
       "\n",
       "           lesion_1     lesion_2     lesion_3     cp_data  \n",
       "count    299.000000   299.000000   299.000000  299.000000  \n",
       "mean    3659.709030    90.528428     7.387960    0.331104  \n",
       "std     5408.472421   650.637139   127.749768    0.471399  \n",
       "min        0.000000     0.000000     0.000000    0.000000  \n",
       "25%     2111.500000     0.000000     0.000000    0.000000  \n",
       "50%     2322.000000     0.000000     0.000000    0.000000  \n",
       "75%     3209.000000     0.000000     0.000000    1.000000  \n",
       "max    41110.000000  7111.000000  2209.000000    1.000000  "
      ]
     },
     "execution_count": 24,
     "metadata": {},
     "output_type": "execute_result"
    }
   ],
   "source": [
    "df.describe()"
   ]
  },
  {
   "cell_type": "code",
   "execution_count": 25,
   "metadata": {
    "executionInfo": {
     "elapsed": 4,
     "status": "ok",
     "timestamp": 1661078349893,
     "user": {
      "displayName": "Subhodeep Mondal",
      "userId": "08622380239934956127"
     },
     "user_tz": -330
    },
    "id": "ohtgyaBU6l1c"
   },
   "outputs": [],
   "source": [
    "y = df.iloc[:,[14]]"
   ]
  },
  {
   "cell_type": "code",
   "execution_count": 26,
   "metadata": {
    "executionInfo": {
     "elapsed": 544,
     "status": "ok",
     "timestamp": 1661078137696,
     "user": {
      "displayName": "Subhodeep Mondal",
      "userId": "08622380239934956127"
     },
     "user_tz": -330
    },
    "id": "yjubsGjq8kni"
   },
   "outputs": [],
   "source": [
    "from sklearn.preprocessing import StandardScaler,MinMaxScaler\n",
    "\n",
    "std = StandardScaler()\n",
    "X_transformed = std.fit_transform(df)"
   ]
  },
  {
   "cell_type": "code",
   "execution_count": 27,
   "metadata": {
    "executionInfo": {
     "elapsed": 820,
     "status": "ok",
     "timestamp": 1661078369356,
     "user": {
      "displayName": "Subhodeep Mondal",
      "userId": "08622380239934956127"
     },
     "user_tz": -330
    },
    "id": "YrAz9SwX9Rwa"
   },
   "outputs": [],
   "source": [
    "minmax = MinMaxScaler()\n",
    "y_transformed = minmax.fit_transform(y)\n",
    "\n"
   ]
  },
  {
   "cell_type": "code",
   "execution_count": 30,
   "metadata": {
    "colab": {
     "base_uri": "https://localhost:8080/"
    },
    "executionInfo": {
     "elapsed": 593,
     "status": "ok",
     "timestamp": 1661078581923,
     "user": {
      "displayName": "Subhodeep Mondal",
      "userId": "08622380239934956127"
     },
     "user_tz": -330
    },
    "id": "5dnxQueD_0X7",
    "outputId": "d9dfaa02-f22d-4ca8-edf2-7d272f7d022e"
   },
   "outputs": [
    {
     "data": {
      "text/plain": [
       "(299, 20)"
      ]
     },
     "execution_count": 30,
     "metadata": {},
     "output_type": "execute_result"
    }
   ],
   "source": [
    "X_transformed.shape"
   ]
  },
  {
   "cell_type": "code",
   "execution_count": 31,
   "metadata": {
    "executionInfo": {
     "elapsed": 557,
     "status": "ok",
     "timestamp": 1661078799930,
     "user": {
      "displayName": "Subhodeep Mondal",
      "userId": "08622380239934956127"
     },
     "user_tz": -330
    },
    "id": "mgLudLHjAFAG"
   },
   "outputs": [],
   "source": [
    "from sklearn.model_selection import train_test_split\n",
    "\n",
    "X_train,X_test,y_train,y_test = train_test_split(X_transformed,y_transformed,train_size = 0.8,random_state=42)"
   ]
  },
  {
   "cell_type": "code",
   "execution_count": 32,
   "metadata": {
    "colab": {
     "base_uri": "https://localhost:8080/"
    },
    "executionInfo": {
     "elapsed": 560,
     "status": "ok",
     "timestamp": 1661079424044,
     "user": {
      "displayName": "Subhodeep Mondal",
      "userId": "08622380239934956127"
     },
     "user_tz": -330
    },
    "id": "okSWQF6kDGf8",
    "outputId": "157ccc96-5d8f-461d-b5c2-c5b67b6bc611"
   },
   "outputs": [
    {
     "data": {
      "text/plain": [
       "array([[ 0.81308739, -0.29541958, -0.41033583, ..., -0.13937138,\n",
       "        -0.05792844, -0.70356236],\n",
       "       [-1.22988009, -0.29541958,  0.04793643, ..., -0.13937138,\n",
       "        -0.05792844, -0.70356236],\n",
       "       [ 0.81308739, -0.29541958,  1.72826803, ..., -0.13937138,\n",
       "        -0.05792844, -0.70356236],\n",
       "       ...,\n",
       "       [ 0.81308739, -0.29541958,  0.20069385, ..., -0.13937138,\n",
       "        -0.05792844,  1.42133811],\n",
       "       [ 0.81308739, -0.29541958, -0.71585066, ..., -0.13937138,\n",
       "        -0.05792844, -0.70356236],\n",
       "       [-1.22988009, -0.29541958,  0.20069385, ..., -0.13937138,\n",
       "        -0.05792844, -0.70356236]])"
      ]
     },
     "execution_count": 32,
     "metadata": {},
     "output_type": "execute_result"
    }
   ],
   "source": [
    "X_train"
   ]
  },
  {
   "cell_type": "code",
   "execution_count": 33,
   "metadata": {
    "executionInfo": {
     "elapsed": 3,
     "status": "ok",
     "timestamp": 1661080402229,
     "user": {
      "displayName": "Subhodeep Mondal",
      "userId": "08622380239934956127"
     },
     "user_tz": -330
    },
    "id": "NqQs1fAI_Msg"
   },
   "outputs": [],
   "source": [
    "model = models.Sequential()\n",
    "\n",
    "model.add(layers.Dense(4,activation='relu'))\n",
    "model.add(layers.Dense(4,activation='relu'))\n",
    "model.add(layers.Dense(1,activation='sigmoid'))\n",
    "\n",
    "model.compile(loss='binary_crossentropy',\n",
    "              optimizer='sgd',\n",
    "              metrics=['accuracy'])"
   ]
  },
  {
   "cell_type": "code",
   "execution_count": 34,
   "metadata": {
    "colab": {
     "base_uri": "https://localhost:8080/"
    },
    "executionInfo": {
     "elapsed": 11549,
     "status": "ok",
     "timestamp": 1661080416075,
     "user": {
      "displayName": "Subhodeep Mondal",
      "userId": "08622380239934956127"
     },
     "user_tz": -330
    },
    "id": "izdSHD75BLtf",
    "outputId": "f5b0ac81-a054-4aff-dfd5-1939f8aa67ee"
   },
   "outputs": [],
   "source": [
    "model_performance = model.fit(X_train,y_train,epochs=200,validation_split=0.2,verbose=0)"
   ]
  },
  {
   "cell_type": "code",
   "execution_count": 35,
   "metadata": {
    "colab": {
     "base_uri": "https://localhost:8080/"
    },
    "executionInfo": {
     "elapsed": 5,
     "status": "ok",
     "timestamp": 1661079343767,
     "user": {
      "displayName": "Subhodeep Mondal",
      "userId": "08622380239934956127"
     },
     "user_tz": -330
    },
    "id": "l3xBhEwhCs3A",
    "outputId": "0238ad28-6003-443c-ce8d-a6f5fa1d535c"
   },
   "outputs": [
    {
     "name": "stdout",
     "output_type": "stream",
     "text": [
      "0.8272251486778259\n"
     ]
    }
   ],
   "source": [
    "model_performance.history.keys()\n",
    "print(model_performance.history['accuracy'][-1])"
   ]
  },
  {
   "cell_type": "code",
   "execution_count": 36,
   "metadata": {
    "colab": {
     "base_uri": "https://localhost:8080/",
     "height": 282
    },
    "executionInfo": {
     "elapsed": 623,
     "status": "ok",
     "timestamp": 1661080786886,
     "user": {
      "displayName": "Subhodeep Mondal",
      "userId": "08622380239934956127"
     },
     "user_tz": -330
    },
    "id": "x0L8PnPiB3Al",
    "outputId": "2918bd59-c228-4c85-c741-73b565a35d6c"
   },
   "outputs": [
    {
     "data": {
      "image/png": "[encoded data removed]",
      "text/plain": [
       "<Figure size 640x480 with 1 Axes>"
      ]
     },
     "metadata": {},
     "output_type": "display_data"
    }
   ],
   "source": [
    "plt.plot(model_performance.history['accuracy'])\n",
    "plt.plot(model_performance.history['val_accuracy'])\n",
    "plt.legend('Accuracy')\n",
    "plt.legend('Val_accuracy')\n",
    "plt.show()"
   ]
  },
  {
   "cell_type": "code",
   "execution_count": 37,
   "metadata": {
    "id": "8Fkaf5bxCpiX"
   },
   "outputs": [
    {
     "name": "stdout",
     "output_type": "stream",
     "text": [
      "2/2 [==============================] - 0s 1ms/step - loss: 0.4712 - accuracy: 0.7667\n"
     ]
    }
   ],
   "source": [
    "test_loss,test_acc = model.evaluate(X_test,y_test)"
   ]
  },
  {
   "cell_type": "code",
   "execution_count": null,
   "metadata": {},
   "outputs": [],
   "source": []
  }
 ],
 "metadata": {
  "colab": {
   "authorship_tag": "ABX9TyN1tWMTX40Fmj7HtHaxlCcj",
   "collapsed_sections": [],
   "mount_file_id": "1veYORT8ZuNt3HVMcM3V_9xdVnQG2w_r_",
   "name": "Horse_Deep_Learning.ipynb",
   "provenance": []
  },
  "kernelspec": {
   "display_name": "Deeplearning_CPU",
   "language": "python",
   "name": "python3"
  },
  "language_info": {
   "codemirror_mode": {
    "name": "ipython",
    "version": 3
   },
   "file_extension": ".py",
   "mimetype": "text/x-python",
   "name": "python",
   "nbconvert_exporter": "python",
   "pygments_lexer": "ipython3",
   "version": "3.7.15 (default, Nov 24 2022, 18:44:54) [MSC v.1916 64 bit (AMD64)]"
  },
  "vscode": {
   "interpreter": {
    "hash": "1e5da57077612cbef7cd9221e11f40412f80cb7fe5d4c64a6013b280405efa15"
   }
  }
 },
 "nbformat": 4,
 "nbformat_minor": 1
}
