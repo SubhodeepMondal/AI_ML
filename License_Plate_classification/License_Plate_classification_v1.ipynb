{
 "cells": [
  {
   "cell_type": "code",
   "execution_count": 1,
   "metadata": {},
   "outputs": [
    {
     "name": "stderr",
     "output_type": "stream",
     "text": [
      "2023-07-27 19:58:28.925129: I tensorflow/core/platform/cpu_feature_guard.cc:193] This TensorFlow binary is optimized with oneAPI Deep Neural Network Library (oneDNN) to use the following CPU instructions in performance-critical operations:  SSE4.1 SSE4.2 AVX AVX2 AVX512F AVX512_VNNI AVX512_BF16 FMA\n",
      "To enable them in other operations, rebuild TensorFlow with the appropriate compiler flags.\n"
     ]
    }
   ],
   "source": [
    "import opendatasets as od\n",
    "import pandas as pd\n",
    "import os\n",
    "\n",
    "import matplotlib.pyplot as plt\n",
    "from tensorflow.keras import layers, models, optimizers,regularizers,losses\n",
    "from tensorflow.keras.preprocessing.image import ImageDataGenerator\n",
    "from tensorflow.keras.applications.resnet50 import ResNet50, preprocess_input"
   ]
  },
  {
   "cell_type": "code",
   "execution_count": null,
   "metadata": {},
   "outputs": [],
   "source": [
    "# dataset = \"https://www.kaggle.com/datasets/gpiosenka/us-license-plates-image-classification\""
   ]
  },
  {
   "cell_type": "code",
   "execution_count": null,
   "metadata": {},
   "outputs": [],
   "source": [
    "# od.download(dataset, force=True)"
   ]
  },
  {
   "cell_type": "code",
   "execution_count": 2,
   "metadata": {},
   "outputs": [],
   "source": [
    "train_data = ImageDataGenerator(rescale=1/255.0,\n",
    "                                preprocessing_function=preprocess_input)\n",
    "\n",
    "test_data = ImageDataGenerator(rescale=1/255.0,\n",
    "                               preprocessing_function=preprocess_input)\n",
    "\n",
    "valid_data = ImageDataGenerator(rescale=1/255.0,\n",
    "                                preprocessing_function=preprocess_input)\n"
   ]
  },
  {
   "cell_type": "code",
   "execution_count": null,
   "metadata": {},
   "outputs": [],
   "source": [
    "trainImageData = train_data.flow_from_directory(\"../../Datasets/us-license-plates-image-classification/new plates/train\",\n",
    "                                                batch_size=4,\n",
    "                                                class_mode=\"categorical\",\n",
    "                                                target_size=(128,256))\n",
    "\n",
    "testImageData = valid_data.flow_from_directory(\"../../Datasets/us-license-plates-image-classification/new plates/test\",\n",
    "                                                batch_size=4,\n",
    "                                                class_mode=\"categorical\",\n",
    "                                                target_size=(128,256))\n",
    "\n",
    "validImageData = valid_data.flow_from_directory(\"../../Datasets/us-license-plates-image-classification/new plates/valid\",\n",
    "                                                batch_size=4,\n",
    "                                                class_mode=\"categorical\",\n",
    "                                                target_size=(128,256))"
   ]
  },
  {
   "cell_type": "code",
   "execution_count": null,
   "metadata": {},
   "outputs": [],
   "source": [
    "trainImageData.image_shape"
   ]
  },
  {
   "cell_type": "code",
   "execution_count": null,
   "metadata": {},
   "outputs": [],
   "source": [
    "classes = len(trainImageData.class_indices.values())\n"
   ]
  },
  {
   "cell_type": "code",
   "execution_count": null,
   "metadata": {},
   "outputs": [],
   "source": [
    "for _ in range(1):\n",
    "    img, label = trainImageData.next()\n",
    "    print(img.shape)\n",
    "    print(label[0])\n",
    "    plt.imshow(img[0])\n",
    "    plt.show()"
   ]
  },
  {
   "cell_type": "code",
   "execution_count": null,
   "metadata": {},
   "outputs": [],
   "source": [
    "\n",
    "def build_model():\n",
    "    model = models.Sequential()\n",
    "    NO_CLASSES = classes\n",
    "\n",
    "    model.add(layers.Conv2D(32, (3,3), input_shape=trainImageData.image_shape,\n",
    "              padding='same', activation='relu'))\n",
    "    model.add(layers.Conv2D(32, (3,3), padding='same', activation='relu'))\n",
    "    model.add(layers.MaxPooling2D(pool_size=(2, 2)))\n",
    "\n",
    "    model.add(layers.Conv2D(64, (3,3), padding='same', activation='relu'))\n",
    "    model.add(layers.Conv2D(64, (3,3), padding='same', activation='relu'))\n",
    "    model.add(layers.Conv2D(64, (3,3), padding='same', activation='relu'))\n",
    "    model.add(layers.MaxPooling2D(pool_size=(2, 2)))\n",
    "\n",
    "    model.add(layers.Conv2D(128, (3,3), padding='same', activation='relu'))\n",
    "    # model.add(layers.MaxPooling2D(pool_size=(2, 2)))\n",
    "    model.add(layers.Conv2D(128, (3,3), padding='same', activation='relu'))\n",
    "    model.add(layers.Conv2D(128, (3,3), padding='same', activation='relu'))\n",
    "    model.add(layers.MaxPooling2D(pool_size=(2, 2)))\n",
    "\n",
    "    model.add(layers.Flatten())\n",
    "\n",
    "    model.add(layers.Dense(64, activation='relu'))\n",
    "    model.add(layers.Dense(64, activation='relu'))\n",
    "    model.add(layers.Dense(NO_CLASSES, activation='softmax'))\n",
    "\n",
    "    return model"
   ]
  },
  {
   "cell_type": "code",
   "execution_count": null,
   "metadata": {},
   "outputs": [],
   "source": [
    "model = build_model()\n",
    "\n",
    "model.compile(loss='categorical_crossentropy',\n",
    "              optimizer='ADAM', metrics=['accuracy'])\n",
    "\n",
    "model.summary()\n",
    "hist=model.fit(trainImageData, validation_data=validImageData, epochs=10)\n"
   ]
  },
  {
   "cell_type": "code",
   "execution_count": null,
   "metadata": {},
   "outputs": [],
   "source": [
    "from tensorflow.keras.applications.vgg16 import VGG16, preprocess_input"
   ]
  },
  {
   "cell_type": "code",
   "execution_count": null,
   "metadata": {},
   "outputs": [],
   "source": [
    "vgg16_model = VGG16(weights=\"imagenet\",include_top=False, input_shape= trainImageData.image_shape)\n",
    "vgg16_model.trainable = False\n",
    "# train_ds = preprocess_input(trainImageData)\n",
    "# valid_ds = preprocess_input(validImageData)"
   ]
  },
  {
   "cell_type": "code",
   "execution_count": null,
   "metadata": {},
   "outputs": [],
   "source": [
    "flatten_layer = layers.Flatten()\n",
    "dense_1 = layers.Dense(64, activation='relu')\n",
    "dense_2 = layers.Dense(64, activation='relu')\n",
    "dense_3 = layers.Dense(classes, activation='softmax')\n",
    "\n",
    "\n",
    "vgg16_sequential_model = models.Sequential([\n",
    "    vgg16_model,\n",
    "    flatten_layer,\n",
    "    dense_1,\n",
    "    dense_2,\n",
    "    dense_3\n",
    "])\n",
    "\n"
   ]
  },
  {
   "cell_type": "code",
   "execution_count": null,
   "metadata": {},
   "outputs": [],
   "source": [
    "vgg16_sequential_model.compile(optimizer='Adam', loss='categorical_crossentropy', metrics=['accuracy'])\n",
    "vgg16_sequential_model.fit(trainImageData,validation_data=validImageData, epochs=25)"
   ]
  },
  {
   "cell_type": "code",
   "execution_count": null,
   "metadata": {},
   "outputs": [],
   "source": []
  },
  {
   "cell_type": "code",
   "execution_count": 8,
   "metadata": {},
   "outputs": [
    {
     "name": "stdout",
     "output_type": "stream",
     "text": [
      "Found 8161 images belonging to 56 classes.\n",
      "Found 280 images belonging to 56 classes.\n",
      "Found 280 images belonging to 56 classes.\n"
     ]
    }
   ],
   "source": [
    "trainImageResnet = train_data.flow_from_directory(\"../../Datasets/us-license-plates-image-classification/new plates/train\",\n",
    "                                                batch_size=32,\n",
    "                                                class_mode=\"categorical\",\n",
    "                                                target_size=(128,256))\n",
    "\n",
    "testImageResnet = valid_data.flow_from_directory(\"../../Datasets/us-license-plates-image-classification/new plates/test\",\n",
    "                                                batch_size=32,\n",
    "                                                class_mode=\"categorical\",\n",
    "                                                target_size=(128,256))\n",
    "\n",
    "validImageResnet = valid_data.flow_from_directory(\"../../Datasets/us-license-plates-image-classification/new plates/valid\",\n",
    "                                                batch_size=32,\n",
    "                                                class_mode=\"categorical\",\n",
    "                                                target_size=(128,256))"
   ]
  },
  {
   "cell_type": "code",
   "execution_count": 4,
   "metadata": {},
   "outputs": [
    {
     "name": "stderr",
     "output_type": "stream",
     "text": [
      "2023-07-27 19:58:40.260947: I tensorflow/core/platform/cpu_feature_guard.cc:193] This TensorFlow binary is optimized with oneAPI Deep Neural Network Library (oneDNN) to use the following CPU instructions in performance-critical operations:  SSE4.1 SSE4.2 AVX AVX2 AVX512F AVX512_VNNI AVX512_BF16 FMA\n",
      "To enable them in other operations, rebuild TensorFlow with the appropriate compiler flags.\n",
      "2023-07-27 19:58:40.262508: I tensorflow/core/common_runtime/process_util.cc:146] Creating new thread pool with default inter op setting: 2. Tune using inter_op_parallelism_threads for best performance.\n"
     ]
    }
   ],
   "source": [
    "resNet50_model = ResNet50(weights=\"imagenet\", include_top=False, input_shape= trainImageResnet.image_shape)\n",
    "resNet50_model.trainable = False"
   ]
  },
  {
   "cell_type": "code",
   "execution_count": 5,
   "metadata": {},
   "outputs": [],
   "source": [
    "flatten_layer_resnet = layers.Flatten()\n",
    "dense_layer_1 = layers.Dense(512, activation='relu')\n",
    "dense_layer_2 = layers.Dense(56, activation='softmax')\n",
    "\n",
    "resnet50_sequential_model = models.Sequential([\n",
    "    resNet50_model,\n",
    "    flatten_layer_resnet,\n",
    "    dense_layer_1,\n",
    "    dense_layer_2\n",
    "])\n"
   ]
  },
  {
   "cell_type": "code",
   "execution_count": 10,
   "metadata": {},
   "outputs": [
    {
     "name": "stdout",
     "output_type": "stream",
     "text": [
      "Epoch 1/10\n",
      "256/256 [==============================] - 188s 731ms/step - loss: 4.0061 - accuracy: 0.0252 - val_loss: 4.0103 - val_accuracy: 0.0250\n",
      "Epoch 2/10\n",
      "256/256 [==============================] - 185s 723ms/step - loss: 3.9643 - accuracy: 0.0259 - val_loss: 3.9589 - val_accuracy: 0.0321\n",
      "Epoch 3/10\n",
      "256/256 [==============================] - 187s 731ms/step - loss: 3.9307 - accuracy: 0.0325 - val_loss: 3.9274 - val_accuracy: 0.0250\n",
      "Epoch 4/10\n",
      "256/256 [==============================] - 183s 715ms/step - loss: 3.8931 - accuracy: 0.0343 - val_loss: 3.9394 - val_accuracy: 0.0429\n",
      "Epoch 5/10\n",
      "256/256 [==============================] - 177s 692ms/step - loss: 3.8701 - accuracy: 0.0388 - val_loss: 3.8987 - val_accuracy: 0.0321\n",
      "Epoch 6/10\n",
      "256/256 [==============================] - 177s 692ms/step - loss: 3.8291 - accuracy: 0.0422 - val_loss: 3.8734 - val_accuracy: 0.0357\n",
      "Epoch 7/10\n",
      "256/256 [==============================] - 178s 696ms/step - loss: 3.7957 - accuracy: 0.0435 - val_loss: 3.8055 - val_accuracy: 0.0214\n",
      "Epoch 8/10\n",
      "256/256 [==============================] - 185s 723ms/step - loss: 3.7558 - accuracy: 0.0489 - val_loss: 3.8927 - val_accuracy: 0.0536\n",
      "Epoch 9/10\n",
      "256/256 [==============================] - 183s 715ms/step - loss: 3.7174 - accuracy: 0.0534 - val_loss: 3.8661 - val_accuracy: 0.0429\n",
      "Epoch 10/10\n",
      "256/256 [==============================] - 185s 721ms/step - loss: 3.6848 - accuracy: 0.0559 - val_loss: 3.7481 - val_accuracy: 0.0429\n"
     ]
    },
    {
     "data": {
      "text/plain": [
       "<keras.callbacks.History at 0x7fdc628b9390>"
      ]
     },
     "execution_count": 10,
     "metadata": {},
     "output_type": "execute_result"
    }
   ],
   "source": [
    "resnet50_sequential_model.compile(optimizer='Adam', loss='categorical_crossentropy', metrics=['accuracy'])\n",
    "resnet50_sequential_model.fit(trainImageResnet,validation_data=validImageResnet, epochs=10)"
   ]
  },
  {
   "cell_type": "code",
   "execution_count": null,
   "metadata": {},
   "outputs": [],
   "source": []
  }
 ],
 "metadata": {
  "kernelspec": {
   "display_name": "Deeplearning_GPU",
   "language": "python",
   "name": "python3"
  },
  "language_info": {
   "codemirror_mode": {
    "name": "ipython",
    "version": 3
   },
   "file_extension": ".py",
   "mimetype": "text/x-python",
   "name": "python",
   "nbconvert_exporter": "python",
   "pygments_lexer": "ipython3",
   "version": "3.7.15"
  },
  "orig_nbformat": 4
 },
 "nbformat": 4,
 "nbformat_minor": 2
}
